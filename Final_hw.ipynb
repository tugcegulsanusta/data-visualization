{
  "nbformat": 4,
  "nbformat_minor": 0,
  "metadata": {
    "colab": {
      "provenance": [],
      "toc_visible": true,
      "authorship_tag": "ABX9TyMm9pr40S76HR80eczml4G+",
      "include_colab_link": true
    },
    "kernelspec": {
      "name": "python3",
      "display_name": "Python 3"
    },
    "language_info": {
      "name": "python"
    }
  },
  "cells": [
    {
      "cell_type": "markdown",
      "metadata": {
        "id": "view-in-github",
        "colab_type": "text"
      },
      "source": [
        "<a href=\"https://colab.research.google.com/github/tugcegulsanusta/data-visualization/blob/main/Final_hw.ipynb\" target=\"_parent\"><img src=\"https://colab.research.google.com/assets/colab-badge.svg\" alt=\"Open In Colab\"/></a>"
      ]
    },
    {
      "cell_type": "markdown",
      "source": [
        "#  Tuğçe USTA"
      ],
      "metadata": {
        "id": "esh3xraqtJGa"
      }
    },
    {
      "cell_type": "markdown",
      "source": [
        "## Veri Okuma\n",
        "\n",
        "\n"
      ],
      "metadata": {
        "id": "c0utyr7YtPe0"
      }
    },
    {
      "cell_type": "code",
      "execution_count": null,
      "metadata": {
        "id": "kSevDNWYr1PD"
      },
      "outputs": [],
      "source": [
        "import matplotlib.pyplot as plt\n",
        "import numpy as np\n",
        "import pandas as pd\n",
        "\n",
        "#winners.csv ve london_marathon.csv dosyalarını okuma\n",
        "path_winners = \"https://github.com/nrennie/LondonMarathon/blob/main/data-raw/winners.csv?raw=True\"\n",
        "df_winners= pd.read_csv(path_winners)\n",
        "path_london_marathon = \"https://github.com/nrennie/LondonMarathon/blob/main/data-raw/london_marathon.csv?raw=True\"\n",
        "df_marathon = pd.read_csv(path_london_marathon)\n",
        "#veri ekleme:\n",
        "url = 'https://raw.githubusercontent.com/tugcegulsanusta/data-visualization/main/world_marathon_majors.csv'\n",
        "df_marathons = pd.read_csv(url, encoding='unicode_escape')\n"
      ]
    },
    {
      "cell_type": "markdown",
      "source": [
        "## Veri Analizi\n"
      ],
      "metadata": {
        "id": "vfybESJRtiFY"
      }
    },
    {
      "cell_type": "code",
      "source": [
        "#Veriyi analiz etme\n",
        "df_winners.info()\n",
        "df_marathon.info()\n",
        "df_marathons.info()\n",
        "#Bu satır 2020 yılı ile alakalı boş veri içerdiği için çıkarılmıştır.\n",
        "df= df_marathon.drop([39])\n"
      ],
      "metadata": {
        "id": "DRYcZCVets1m"
      },
      "execution_count": null,
      "outputs": []
    },
    {
      "cell_type": "markdown",
      "source": [
        "##Soru1"
      ],
      "metadata": {
        "id": "acE6RPvHlh9a"
      }
    },
    {
      "cell_type": "markdown",
      "source": [
        "1-Küresel büyüklük olarak bir kelebeğin kanat çırpması gibi Pheidippides efsanesiyle başlayan, gittikçe popülerleşen ve her yaştan insanın ilgi odağı haline gelen maraton günümüzde kitle sporuna dönüşmüştür[1].\n",
        "Londra maratonuna yapılan başvurular ve kabul oranları maraton koşularının popülerleşmesi ile birlikte nasıl değişmiştir?"
      ],
      "metadata": {
        "id": "6vOBbB93loAD"
      }
    },
    {
      "cell_type": "code",
      "source": [
        "import plotly.graph_objs as go\n",
        "\n",
        "x = df['Year'].tolist()\n",
        "y1 = df[\"Applicants\"].tolist()\n",
        "y2 = df[\"Accepted\"].tolist()\n",
        "\n",
        "percentage = [y2[i] / y1[i] * 100 if y1[i] != 0 else 0 for i in range(len(y1))]\n",
        "\n",
        "fig = go.Figure()\n",
        "\n",
        "# kabul alma oranlarının hesaplanması\n",
        "fig.add_trace(go.Scatter(x=x, y=percentage, mode='lines', name='Kabul Oranı (%)'))\n",
        "\n",
        "# etkileşim eklenmesi\n",
        "hover_text = [f\"Kabul Alan Kişi Sayısı: {y2[i]}\" for i in range(len(y2))]\n",
        "fig.add_trace(go.Scatter(x=x, y=percentage, mode='markers', hovertext=hover_text, marker=dict(color='black'), showlegend=False))\n",
        "\n",
        "fig.update_layout(\n",
        "    title='Yıllara Göre Başvuranların Kabul Alma Oranları',\n",
        "    xaxis_title='Yıllar',\n",
        "    yaxis_title='Kabul Alanların Oranı (%)'\n",
        ")\n",
        "\n",
        "fig.show()\n"
      ],
      "metadata": {
        "id": "ZcAxL5mTvUDX"
      },
      "execution_count": null,
      "outputs": []
    },
    {
      "cell_type": "markdown",
      "source": [
        "### Şekil1 Kullanılan görsel kanallar:\n",
        "* Veri işareti: Nokta\n",
        "* X-pozisyon: Yıllar (Sıralı)\n",
        "* Y-pozisyon: Yarışmaya başvuranların kabul alma oranı (Nicel)\n",
        "* Çizgi: Yıllar içinde gözlenen oran değişimi takibi\n",
        "* Etkileşim: Fare ile üzerine gelindiğinde kabul alan kişi sayılarının gösterilmesi\n",
        "\n",
        "\n",
        "## Bulgular:\n",
        "* Maraton kabul oranları son yıllarda artan başvuru sayıları nedeniyle azalmaktadır. Arttırılan kabul alma sayıları başvuru sayısına oranlandığında düşük kalmaktadır.\n"
      ],
      "metadata": {
        "id": "iMznzZZQwz8n"
      }
    },
    {
      "cell_type": "markdown",
      "source": [
        "## Soru2"
      ],
      "metadata": {
        "id": "CdX2IAp3wEiu"
      }
    },
    {
      "cell_type": "markdown",
      "source": [
        "2-Dünya genelinde en popüler beş maratona bakıldığında (Tokyo,NYC, Boston, Berlin, London) birinciler ağırlıklı olarak hangi ülkelerden çıkmaktadır?"
      ],
      "metadata": {
        "id": "mX_tf7uJx5CA"
      }
    },
    {
      "cell_type": "code",
      "source": [
        "!pip install geopandas"
      ],
      "metadata": {
        "id": "8YNf5swG-sKt",
        "outputId": "85e9deb4-7182-4478-c914-127b6e97c89e",
        "colab": {
          "base_uri": "https://localhost:8080/"
        }
      },
      "execution_count": null,
      "outputs": [
        {
          "output_type": "stream",
          "name": "stdout",
          "text": [
            "Requirement already satisfied: geopandas in /usr/local/lib/python3.10/dist-packages (0.13.2)\n",
            "Requirement already satisfied: fiona>=1.8.19 in /usr/local/lib/python3.10/dist-packages (from geopandas) (1.9.5)\n",
            "Requirement already satisfied: packaging in /usr/local/lib/python3.10/dist-packages (from geopandas) (23.2)\n",
            "Requirement already satisfied: pandas>=1.1.0 in /usr/local/lib/python3.10/dist-packages (from geopandas) (1.5.3)\n",
            "Requirement already satisfied: pyproj>=3.0.1 in /usr/local/lib/python3.10/dist-packages (from geopandas) (3.6.1)\n",
            "Requirement already satisfied: shapely>=1.7.1 in /usr/local/lib/python3.10/dist-packages (from geopandas) (2.0.2)\n",
            "Requirement already satisfied: attrs>=19.2.0 in /usr/local/lib/python3.10/dist-packages (from fiona>=1.8.19->geopandas) (23.1.0)\n",
            "Requirement already satisfied: certifi in /usr/local/lib/python3.10/dist-packages (from fiona>=1.8.19->geopandas) (2023.11.17)\n",
            "Requirement already satisfied: click~=8.0 in /usr/local/lib/python3.10/dist-packages (from fiona>=1.8.19->geopandas) (8.1.7)\n",
            "Requirement already satisfied: click-plugins>=1.0 in /usr/local/lib/python3.10/dist-packages (from fiona>=1.8.19->geopandas) (1.1.1)\n",
            "Requirement already satisfied: cligj>=0.5 in /usr/local/lib/python3.10/dist-packages (from fiona>=1.8.19->geopandas) (0.7.2)\n",
            "Requirement already satisfied: six in /usr/local/lib/python3.10/dist-packages (from fiona>=1.8.19->geopandas) (1.16.0)\n",
            "Requirement already satisfied: setuptools in /usr/local/lib/python3.10/dist-packages (from fiona>=1.8.19->geopandas) (67.7.2)\n",
            "Requirement already satisfied: python-dateutil>=2.8.1 in /usr/local/lib/python3.10/dist-packages (from pandas>=1.1.0->geopandas) (2.8.2)\n",
            "Requirement already satisfied: pytz>=2020.1 in /usr/local/lib/python3.10/dist-packages (from pandas>=1.1.0->geopandas) (2023.3.post1)\n",
            "Requirement already satisfied: numpy>=1.21.0 in /usr/local/lib/python3.10/dist-packages (from pandas>=1.1.0->geopandas) (1.23.5)\n"
          ]
        }
      ]
    },
    {
      "cell_type": "code",
      "source": [
        "import pandas as pd\n",
        "import plotly.graph_objects as go\n",
        "\n",
        "#Ülkelerin birinci çıkarma sayılarının hesaplanması\n",
        "country_counts = df_marathons['country'].value_counts()\n",
        "top_countries = country_counts.head(50)\n",
        "countries = top_countries.index\n",
        "win_counts = top_countries.values\n",
        "\n",
        "#etiket özelliklerinin belirlenmesi\n",
        "text = [f'Kazanan Sayısı: {count}' for count in win_counts]\n",
        "hover_text = [f'<b>Ülke:</b> {country}<br><b>Kazanan Sayısı:</b> {count}' for country, count in zip(countries, win_counts)]\n",
        "\n",
        "#figür özelliklerinin belirlenmesi\n",
        "fig = go.Figure(data=go.Choropleth(\n",
        "    locations=countries,\n",
        "    locationmode='country names',\n",
        "    z=win_counts,\n",
        "    text=text,\n",
        "    hovertemplate='<b>Ülke:</b> %{location}<br><b>Kazanan Sayısı:</b> %{z}<extra></extra>',\n",
        "    colorscale='darkmint',\n",
        "    colorbar_title='Kazanan Sayısı',\n",
        "))\n",
        "#etkileşim eklenmesi\n",
        "fig.update_traces(hovertext=hover_text)\n",
        "fig.update_layout(\n",
        "    title='Maratonlarda En Çok Birinci Çıkaran Ülkeler',\n",
        "    geo=dict(showframe=False, projection_type='natural earth'),\n",
        "    title_x = 0.45\n",
        ")\n",
        "\n",
        "\n",
        "fig.show()"
      ],
      "metadata": {
        "id": "mND382APxdoZ",
        "colab": {
          "base_uri": "https://localhost:8080/",
          "height": 542
        },
        "outputId": "5e15f9ff-6753-4be9-e7fc-9450af17d42c"
      },
      "execution_count": null,
      "outputs": [
        {
          "output_type": "display_data",
          "data": {
            "text/html": [
              "<html>\n",
              "<head><meta charset=\"utf-8\" /></head>\n",
              "<body>\n",
              "    <div>            <script src=\"https://cdnjs.cloudflare.com/ajax/libs/mathjax/2.7.5/MathJax.js?config=TeX-AMS-MML_SVG\"></script><script type=\"text/javascript\">if (window.MathJax && window.MathJax.Hub && window.MathJax.Hub.Config) {window.MathJax.Hub.Config({SVG: {font: \"STIX-Web\"}});}</script>                <script type=\"text/javascript\">window.PlotlyConfig = {MathJaxConfig: 'local'};</script>\n",
              "        <script charset=\"utf-8\" src=\"https://cdn.plot.ly/plotly-2.24.1.min.js\"></script>                <div id=\"32372fda-89ec-43af-8f07-3cac354852c1\" class=\"plotly-graph-div\" style=\"height:525px; width:100%;\"></div>            <script type=\"text/javascript\">                                    window.PLOTLYENV=window.PLOTLYENV || {};                                    if (document.getElementById(\"32372fda-89ec-43af-8f07-3cac354852c1\")) {                    Plotly.newPlot(                        \"32372fda-89ec-43af-8f07-3cac354852c1\",                        [{\"colorbar\":{\"title\":{\"text\":\"Kazanan Say\\u0131s\\u0131\"}},\"colorscale\":[[0.0,\"rgb(210, 251, 212)\"],[0.16666666666666666,\"rgb(165, 219, 194)\"],[0.3333333333333333,\"rgb(123, 188, 176)\"],[0.5,\"rgb(85, 156, 158)\"],[0.6666666666666666,\"rgb(58, 124, 137)\"],[0.8333333333333334,\"rgb(35, 93, 114)\"],[1.0,\"rgb(18, 63, 90)\"]],\"hovertemplate\":\"\\u003cb\\u003e\\u00dclke:\\u003c\\u002fb\\u003e %{location}\\u003cbr\\u003e\\u003cb\\u003eKazanan Say\\u0131s\\u0131:\\u003c\\u002fb\\u003e %{z}\\u003cextra\\u003e\\u003c\\u002fextra\\u003e\",\"locationmode\":\"country names\",\"locations\":[\"Kenya\",\"United States\",\"Ethiopia\",\"Germany\",\"United Kingdom\",\"Japan\",\"Norway\",\"Canada\",\"Portugal\",\"Mexico\",\"Finland\",\"Russia\",\"Poland\",\"Brazil\",\"Italy\",\"South Africa\",\"Belgium\",\"New Zealand\",\"Morocco\",\"Tanzania\",\"South Korea\",\"Ireland\",\"Australia\",\"Colombia\",\"Denmark\",\"Switzerland\",\"Romania\",\"Sweden\",\"Greece\",\"Spain\",\"Latvia\",\"China\",\"Hungary\",\"Eritrea\",\"Guatemala\",\"Yugoslavia\",\"Soviet Union\"],\"text\":[\"Kazanan Say\\u0131s\\u0131: 136\",\"Kazanan Say\\u0131s\\u0131: 104\",\"Kazanan Say\\u0131s\\u0131: 51\",\"Kazanan Say\\u0131s\\u0131: 36\",\"Kazanan Say\\u0131s\\u0131: 35\",\"Kazanan Say\\u0131s\\u0131: 22\",\"Kazanan Say\\u0131s\\u0131: 20\",\"Kazanan Say\\u0131s\\u0131: 17\",\"Kazanan Say\\u0131s\\u0131: 11\",\"Kazanan Say\\u0131s\\u0131: 10\",\"Kazanan Say\\u0131s\\u0131: 10\",\"Kazanan Say\\u0131s\\u0131: 8\",\"Kazanan Say\\u0131s\\u0131: 8\",\"Kazanan Say\\u0131s\\u0131: 7\",\"Kazanan Say\\u0131s\\u0131: 6\",\"Kazanan Say\\u0131s\\u0131: 5\",\"Kazanan Say\\u0131s\\u0131: 5\",\"Kazanan Say\\u0131s\\u0131: 5\",\"Kazanan Say\\u0131s\\u0131: 5\",\"Kazanan Say\\u0131s\\u0131: 4\",\"Kazanan Say\\u0131s\\u0131: 3\",\"Kazanan Say\\u0131s\\u0131: 3\",\"Kazanan Say\\u0131s\\u0131: 3\",\"Kazanan Say\\u0131s\\u0131: 2\",\"Kazanan Say\\u0131s\\u0131: 2\",\"Kazanan Say\\u0131s\\u0131: 2\",\"Kazanan Say\\u0131s\\u0131: 2\",\"Kazanan Say\\u0131s\\u0131: 2\",\"Kazanan Say\\u0131s\\u0131: 2\",\"Kazanan Say\\u0131s\\u0131: 2\",\"Kazanan Say\\u0131s\\u0131: 2\",\"Kazanan Say\\u0131s\\u0131: 1\",\"Kazanan Say\\u0131s\\u0131: 1\",\"Kazanan Say\\u0131s\\u0131: 1\",\"Kazanan Say\\u0131s\\u0131: 1\",\"Kazanan Say\\u0131s\\u0131: 1\",\"Kazanan Say\\u0131s\\u0131: 1\"],\"z\":[136,104,51,36,35,22,20,17,11,10,10,8,8,7,6,5,5,5,5,4,3,3,3,2,2,2,2,2,2,2,2,1,1,1,1,1,1],\"type\":\"choropleth\",\"hovertext\":[\"\\u003cb\\u003e\\u00dclke:\\u003c\\u002fb\\u003e Kenya\\u003cbr\\u003e\\u003cb\\u003eKazanan Say\\u0131s\\u0131:\\u003c\\u002fb\\u003e 136\",\"\\u003cb\\u003e\\u00dclke:\\u003c\\u002fb\\u003e United States\\u003cbr\\u003e\\u003cb\\u003eKazanan Say\\u0131s\\u0131:\\u003c\\u002fb\\u003e 104\",\"\\u003cb\\u003e\\u00dclke:\\u003c\\u002fb\\u003e Ethiopia\\u003cbr\\u003e\\u003cb\\u003eKazanan Say\\u0131s\\u0131:\\u003c\\u002fb\\u003e 51\",\"\\u003cb\\u003e\\u00dclke:\\u003c\\u002fb\\u003e Germany\\u003cbr\\u003e\\u003cb\\u003eKazanan Say\\u0131s\\u0131:\\u003c\\u002fb\\u003e 36\",\"\\u003cb\\u003e\\u00dclke:\\u003c\\u002fb\\u003e United Kingdom\\u003cbr\\u003e\\u003cb\\u003eKazanan Say\\u0131s\\u0131:\\u003c\\u002fb\\u003e 35\",\"\\u003cb\\u003e\\u00dclke:\\u003c\\u002fb\\u003e Japan\\u003cbr\\u003e\\u003cb\\u003eKazanan Say\\u0131s\\u0131:\\u003c\\u002fb\\u003e 22\",\"\\u003cb\\u003e\\u00dclke:\\u003c\\u002fb\\u003e Norway\\u003cbr\\u003e\\u003cb\\u003eKazanan Say\\u0131s\\u0131:\\u003c\\u002fb\\u003e 20\",\"\\u003cb\\u003e\\u00dclke:\\u003c\\u002fb\\u003e Canada\\u003cbr\\u003e\\u003cb\\u003eKazanan Say\\u0131s\\u0131:\\u003c\\u002fb\\u003e 17\",\"\\u003cb\\u003e\\u00dclke:\\u003c\\u002fb\\u003e Portugal\\u003cbr\\u003e\\u003cb\\u003eKazanan Say\\u0131s\\u0131:\\u003c\\u002fb\\u003e 11\",\"\\u003cb\\u003e\\u00dclke:\\u003c\\u002fb\\u003e Mexico\\u003cbr\\u003e\\u003cb\\u003eKazanan Say\\u0131s\\u0131:\\u003c\\u002fb\\u003e 10\",\"\\u003cb\\u003e\\u00dclke:\\u003c\\u002fb\\u003e Finland\\u003cbr\\u003e\\u003cb\\u003eKazanan Say\\u0131s\\u0131:\\u003c\\u002fb\\u003e 10\",\"\\u003cb\\u003e\\u00dclke:\\u003c\\u002fb\\u003e Russia\\u003cbr\\u003e\\u003cb\\u003eKazanan Say\\u0131s\\u0131:\\u003c\\u002fb\\u003e 8\",\"\\u003cb\\u003e\\u00dclke:\\u003c\\u002fb\\u003e Poland\\u003cbr\\u003e\\u003cb\\u003eKazanan Say\\u0131s\\u0131:\\u003c\\u002fb\\u003e 8\",\"\\u003cb\\u003e\\u00dclke:\\u003c\\u002fb\\u003e Brazil\\u003cbr\\u003e\\u003cb\\u003eKazanan Say\\u0131s\\u0131:\\u003c\\u002fb\\u003e 7\",\"\\u003cb\\u003e\\u00dclke:\\u003c\\u002fb\\u003e Italy\\u003cbr\\u003e\\u003cb\\u003eKazanan Say\\u0131s\\u0131:\\u003c\\u002fb\\u003e 6\",\"\\u003cb\\u003e\\u00dclke:\\u003c\\u002fb\\u003e South Africa\\u003cbr\\u003e\\u003cb\\u003eKazanan Say\\u0131s\\u0131:\\u003c\\u002fb\\u003e 5\",\"\\u003cb\\u003e\\u00dclke:\\u003c\\u002fb\\u003e Belgium\\u003cbr\\u003e\\u003cb\\u003eKazanan Say\\u0131s\\u0131:\\u003c\\u002fb\\u003e 5\",\"\\u003cb\\u003e\\u00dclke:\\u003c\\u002fb\\u003e New Zealand\\u003cbr\\u003e\\u003cb\\u003eKazanan Say\\u0131s\\u0131:\\u003c\\u002fb\\u003e 5\",\"\\u003cb\\u003e\\u00dclke:\\u003c\\u002fb\\u003e Morocco\\u003cbr\\u003e\\u003cb\\u003eKazanan Say\\u0131s\\u0131:\\u003c\\u002fb\\u003e 5\",\"\\u003cb\\u003e\\u00dclke:\\u003c\\u002fb\\u003e Tanzania\\u003cbr\\u003e\\u003cb\\u003eKazanan Say\\u0131s\\u0131:\\u003c\\u002fb\\u003e 4\",\"\\u003cb\\u003e\\u00dclke:\\u003c\\u002fb\\u003e South Korea\\u003cbr\\u003e\\u003cb\\u003eKazanan Say\\u0131s\\u0131:\\u003c\\u002fb\\u003e 3\",\"\\u003cb\\u003e\\u00dclke:\\u003c\\u002fb\\u003e Ireland\\u003cbr\\u003e\\u003cb\\u003eKazanan Say\\u0131s\\u0131:\\u003c\\u002fb\\u003e 3\",\"\\u003cb\\u003e\\u00dclke:\\u003c\\u002fb\\u003e Australia\\u003cbr\\u003e\\u003cb\\u003eKazanan Say\\u0131s\\u0131:\\u003c\\u002fb\\u003e 3\",\"\\u003cb\\u003e\\u00dclke:\\u003c\\u002fb\\u003e Colombia\\u003cbr\\u003e\\u003cb\\u003eKazanan Say\\u0131s\\u0131:\\u003c\\u002fb\\u003e 2\",\"\\u003cb\\u003e\\u00dclke:\\u003c\\u002fb\\u003e Denmark\\u003cbr\\u003e\\u003cb\\u003eKazanan Say\\u0131s\\u0131:\\u003c\\u002fb\\u003e 2\",\"\\u003cb\\u003e\\u00dclke:\\u003c\\u002fb\\u003e Switzerland\\u003cbr\\u003e\\u003cb\\u003eKazanan Say\\u0131s\\u0131:\\u003c\\u002fb\\u003e 2\",\"\\u003cb\\u003e\\u00dclke:\\u003c\\u002fb\\u003e Romania\\u003cbr\\u003e\\u003cb\\u003eKazanan Say\\u0131s\\u0131:\\u003c\\u002fb\\u003e 2\",\"\\u003cb\\u003e\\u00dclke:\\u003c\\u002fb\\u003e Sweden\\u003cbr\\u003e\\u003cb\\u003eKazanan Say\\u0131s\\u0131:\\u003c\\u002fb\\u003e 2\",\"\\u003cb\\u003e\\u00dclke:\\u003c\\u002fb\\u003e Greece\\u003cbr\\u003e\\u003cb\\u003eKazanan Say\\u0131s\\u0131:\\u003c\\u002fb\\u003e 2\",\"\\u003cb\\u003e\\u00dclke:\\u003c\\u002fb\\u003e Spain\\u003cbr\\u003e\\u003cb\\u003eKazanan Say\\u0131s\\u0131:\\u003c\\u002fb\\u003e 2\",\"\\u003cb\\u003e\\u00dclke:\\u003c\\u002fb\\u003e Latvia\\u003cbr\\u003e\\u003cb\\u003eKazanan Say\\u0131s\\u0131:\\u003c\\u002fb\\u003e 2\",\"\\u003cb\\u003e\\u00dclke:\\u003c\\u002fb\\u003e China\\u003cbr\\u003e\\u003cb\\u003eKazanan Say\\u0131s\\u0131:\\u003c\\u002fb\\u003e 1\",\"\\u003cb\\u003e\\u00dclke:\\u003c\\u002fb\\u003e Hungary\\u003cbr\\u003e\\u003cb\\u003eKazanan Say\\u0131s\\u0131:\\u003c\\u002fb\\u003e 1\",\"\\u003cb\\u003e\\u00dclke:\\u003c\\u002fb\\u003e Eritrea\\u003cbr\\u003e\\u003cb\\u003eKazanan Say\\u0131s\\u0131:\\u003c\\u002fb\\u003e 1\",\"\\u003cb\\u003e\\u00dclke:\\u003c\\u002fb\\u003e Guatemala\\u003cbr\\u003e\\u003cb\\u003eKazanan Say\\u0131s\\u0131:\\u003c\\u002fb\\u003e 1\",\"\\u003cb\\u003e\\u00dclke:\\u003c\\u002fb\\u003e Yugoslavia\\u003cbr\\u003e\\u003cb\\u003eKazanan Say\\u0131s\\u0131:\\u003c\\u002fb\\u003e 1\",\"\\u003cb\\u003e\\u00dclke:\\u003c\\u002fb\\u003e Soviet Union\\u003cbr\\u003e\\u003cb\\u003eKazanan Say\\u0131s\\u0131:\\u003c\\u002fb\\u003e 1\"]}],                        {\"template\":{\"data\":{\"histogram2dcontour\":[{\"type\":\"histogram2dcontour\",\"colorbar\":{\"outlinewidth\":0,\"ticks\":\"\"},\"colorscale\":[[0.0,\"#0d0887\"],[0.1111111111111111,\"#46039f\"],[0.2222222222222222,\"#7201a8\"],[0.3333333333333333,\"#9c179e\"],[0.4444444444444444,\"#bd3786\"],[0.5555555555555556,\"#d8576b\"],[0.6666666666666666,\"#ed7953\"],[0.7777777777777778,\"#fb9f3a\"],[0.8888888888888888,\"#fdca26\"],[1.0,\"#f0f921\"]]}],\"choropleth\":[{\"type\":\"choropleth\",\"colorbar\":{\"outlinewidth\":0,\"ticks\":\"\"}}],\"histogram2d\":[{\"type\":\"histogram2d\",\"colorbar\":{\"outlinewidth\":0,\"ticks\":\"\"},\"colorscale\":[[0.0,\"#0d0887\"],[0.1111111111111111,\"#46039f\"],[0.2222222222222222,\"#7201a8\"],[0.3333333333333333,\"#9c179e\"],[0.4444444444444444,\"#bd3786\"],[0.5555555555555556,\"#d8576b\"],[0.6666666666666666,\"#ed7953\"],[0.7777777777777778,\"#fb9f3a\"],[0.8888888888888888,\"#fdca26\"],[1.0,\"#f0f921\"]]}],\"heatmap\":[{\"type\":\"heatmap\",\"colorbar\":{\"outlinewidth\":0,\"ticks\":\"\"},\"colorscale\":[[0.0,\"#0d0887\"],[0.1111111111111111,\"#46039f\"],[0.2222222222222222,\"#7201a8\"],[0.3333333333333333,\"#9c179e\"],[0.4444444444444444,\"#bd3786\"],[0.5555555555555556,\"#d8576b\"],[0.6666666666666666,\"#ed7953\"],[0.7777777777777778,\"#fb9f3a\"],[0.8888888888888888,\"#fdca26\"],[1.0,\"#f0f921\"]]}],\"heatmapgl\":[{\"type\":\"heatmapgl\",\"colorbar\":{\"outlinewidth\":0,\"ticks\":\"\"},\"colorscale\":[[0.0,\"#0d0887\"],[0.1111111111111111,\"#46039f\"],[0.2222222222222222,\"#7201a8\"],[0.3333333333333333,\"#9c179e\"],[0.4444444444444444,\"#bd3786\"],[0.5555555555555556,\"#d8576b\"],[0.6666666666666666,\"#ed7953\"],[0.7777777777777778,\"#fb9f3a\"],[0.8888888888888888,\"#fdca26\"],[1.0,\"#f0f921\"]]}],\"contourcarpet\":[{\"type\":\"contourcarpet\",\"colorbar\":{\"outlinewidth\":0,\"ticks\":\"\"}}],\"contour\":[{\"type\":\"contour\",\"colorbar\":{\"outlinewidth\":0,\"ticks\":\"\"},\"colorscale\":[[0.0,\"#0d0887\"],[0.1111111111111111,\"#46039f\"],[0.2222222222222222,\"#7201a8\"],[0.3333333333333333,\"#9c179e\"],[0.4444444444444444,\"#bd3786\"],[0.5555555555555556,\"#d8576b\"],[0.6666666666666666,\"#ed7953\"],[0.7777777777777778,\"#fb9f3a\"],[0.8888888888888888,\"#fdca26\"],[1.0,\"#f0f921\"]]}],\"surface\":[{\"type\":\"surface\",\"colorbar\":{\"outlinewidth\":0,\"ticks\":\"\"},\"colorscale\":[[0.0,\"#0d0887\"],[0.1111111111111111,\"#46039f\"],[0.2222222222222222,\"#7201a8\"],[0.3333333333333333,\"#9c179e\"],[0.4444444444444444,\"#bd3786\"],[0.5555555555555556,\"#d8576b\"],[0.6666666666666666,\"#ed7953\"],[0.7777777777777778,\"#fb9f3a\"],[0.8888888888888888,\"#fdca26\"],[1.0,\"#f0f921\"]]}],\"mesh3d\":[{\"type\":\"mesh3d\",\"colorbar\":{\"outlinewidth\":0,\"ticks\":\"\"}}],\"scatter\":[{\"fillpattern\":{\"fillmode\":\"overlay\",\"size\":10,\"solidity\":0.2},\"type\":\"scatter\"}],\"parcoords\":[{\"type\":\"parcoords\",\"line\":{\"colorbar\":{\"outlinewidth\":0,\"ticks\":\"\"}}}],\"scatterpolargl\":[{\"type\":\"scatterpolargl\",\"marker\":{\"colorbar\":{\"outlinewidth\":0,\"ticks\":\"\"}}}],\"bar\":[{\"error_x\":{\"color\":\"#2a3f5f\"},\"error_y\":{\"color\":\"#2a3f5f\"},\"marker\":{\"line\":{\"color\":\"#E5ECF6\",\"width\":0.5},\"pattern\":{\"fillmode\":\"overlay\",\"size\":10,\"solidity\":0.2}},\"type\":\"bar\"}],\"scattergeo\":[{\"type\":\"scattergeo\",\"marker\":{\"colorbar\":{\"outlinewidth\":0,\"ticks\":\"\"}}}],\"scatterpolar\":[{\"type\":\"scatterpolar\",\"marker\":{\"colorbar\":{\"outlinewidth\":0,\"ticks\":\"\"}}}],\"histogram\":[{\"marker\":{\"pattern\":{\"fillmode\":\"overlay\",\"size\":10,\"solidity\":0.2}},\"type\":\"histogram\"}],\"scattergl\":[{\"type\":\"scattergl\",\"marker\":{\"colorbar\":{\"outlinewidth\":0,\"ticks\":\"\"}}}],\"scatter3d\":[{\"type\":\"scatter3d\",\"line\":{\"colorbar\":{\"outlinewidth\":0,\"ticks\":\"\"}},\"marker\":{\"colorbar\":{\"outlinewidth\":0,\"ticks\":\"\"}}}],\"scattermapbox\":[{\"type\":\"scattermapbox\",\"marker\":{\"colorbar\":{\"outlinewidth\":0,\"ticks\":\"\"}}}],\"scatterternary\":[{\"type\":\"scatterternary\",\"marker\":{\"colorbar\":{\"outlinewidth\":0,\"ticks\":\"\"}}}],\"scattercarpet\":[{\"type\":\"scattercarpet\",\"marker\":{\"colorbar\":{\"outlinewidth\":0,\"ticks\":\"\"}}}],\"carpet\":[{\"aaxis\":{\"endlinecolor\":\"#2a3f5f\",\"gridcolor\":\"white\",\"linecolor\":\"white\",\"minorgridcolor\":\"white\",\"startlinecolor\":\"#2a3f5f\"},\"baxis\":{\"endlinecolor\":\"#2a3f5f\",\"gridcolor\":\"white\",\"linecolor\":\"white\",\"minorgridcolor\":\"white\",\"startlinecolor\":\"#2a3f5f\"},\"type\":\"carpet\"}],\"table\":[{\"cells\":{\"fill\":{\"color\":\"#EBF0F8\"},\"line\":{\"color\":\"white\"}},\"header\":{\"fill\":{\"color\":\"#C8D4E3\"},\"line\":{\"color\":\"white\"}},\"type\":\"table\"}],\"barpolar\":[{\"marker\":{\"line\":{\"color\":\"#E5ECF6\",\"width\":0.5},\"pattern\":{\"fillmode\":\"overlay\",\"size\":10,\"solidity\":0.2}},\"type\":\"barpolar\"}],\"pie\":[{\"automargin\":true,\"type\":\"pie\"}]},\"layout\":{\"autotypenumbers\":\"strict\",\"colorway\":[\"#636efa\",\"#EF553B\",\"#00cc96\",\"#ab63fa\",\"#FFA15A\",\"#19d3f3\",\"#FF6692\",\"#B6E880\",\"#FF97FF\",\"#FECB52\"],\"font\":{\"color\":\"#2a3f5f\"},\"hovermode\":\"closest\",\"hoverlabel\":{\"align\":\"left\"},\"paper_bgcolor\":\"white\",\"plot_bgcolor\":\"#E5ECF6\",\"polar\":{\"bgcolor\":\"#E5ECF6\",\"angularaxis\":{\"gridcolor\":\"white\",\"linecolor\":\"white\",\"ticks\":\"\"},\"radialaxis\":{\"gridcolor\":\"white\",\"linecolor\":\"white\",\"ticks\":\"\"}},\"ternary\":{\"bgcolor\":\"#E5ECF6\",\"aaxis\":{\"gridcolor\":\"white\",\"linecolor\":\"white\",\"ticks\":\"\"},\"baxis\":{\"gridcolor\":\"white\",\"linecolor\":\"white\",\"ticks\":\"\"},\"caxis\":{\"gridcolor\":\"white\",\"linecolor\":\"white\",\"ticks\":\"\"}},\"coloraxis\":{\"colorbar\":{\"outlinewidth\":0,\"ticks\":\"\"}},\"colorscale\":{\"sequential\":[[0.0,\"#0d0887\"],[0.1111111111111111,\"#46039f\"],[0.2222222222222222,\"#7201a8\"],[0.3333333333333333,\"#9c179e\"],[0.4444444444444444,\"#bd3786\"],[0.5555555555555556,\"#d8576b\"],[0.6666666666666666,\"#ed7953\"],[0.7777777777777778,\"#fb9f3a\"],[0.8888888888888888,\"#fdca26\"],[1.0,\"#f0f921\"]],\"sequentialminus\":[[0.0,\"#0d0887\"],[0.1111111111111111,\"#46039f\"],[0.2222222222222222,\"#7201a8\"],[0.3333333333333333,\"#9c179e\"],[0.4444444444444444,\"#bd3786\"],[0.5555555555555556,\"#d8576b\"],[0.6666666666666666,\"#ed7953\"],[0.7777777777777778,\"#fb9f3a\"],[0.8888888888888888,\"#fdca26\"],[1.0,\"#f0f921\"]],\"diverging\":[[0,\"#8e0152\"],[0.1,\"#c51b7d\"],[0.2,\"#de77ae\"],[0.3,\"#f1b6da\"],[0.4,\"#fde0ef\"],[0.5,\"#f7f7f7\"],[0.6,\"#e6f5d0\"],[0.7,\"#b8e186\"],[0.8,\"#7fbc41\"],[0.9,\"#4d9221\"],[1,\"#276419\"]]},\"xaxis\":{\"gridcolor\":\"white\",\"linecolor\":\"white\",\"ticks\":\"\",\"title\":{\"standoff\":15},\"zerolinecolor\":\"white\",\"automargin\":true,\"zerolinewidth\":2},\"yaxis\":{\"gridcolor\":\"white\",\"linecolor\":\"white\",\"ticks\":\"\",\"title\":{\"standoff\":15},\"zerolinecolor\":\"white\",\"automargin\":true,\"zerolinewidth\":2},\"scene\":{\"xaxis\":{\"backgroundcolor\":\"#E5ECF6\",\"gridcolor\":\"white\",\"linecolor\":\"white\",\"showbackground\":true,\"ticks\":\"\",\"zerolinecolor\":\"white\",\"gridwidth\":2},\"yaxis\":{\"backgroundcolor\":\"#E5ECF6\",\"gridcolor\":\"white\",\"linecolor\":\"white\",\"showbackground\":true,\"ticks\":\"\",\"zerolinecolor\":\"white\",\"gridwidth\":2},\"zaxis\":{\"backgroundcolor\":\"#E5ECF6\",\"gridcolor\":\"white\",\"linecolor\":\"white\",\"showbackground\":true,\"ticks\":\"\",\"zerolinecolor\":\"white\",\"gridwidth\":2}},\"shapedefaults\":{\"line\":{\"color\":\"#2a3f5f\"}},\"annotationdefaults\":{\"arrowcolor\":\"#2a3f5f\",\"arrowhead\":0,\"arrowwidth\":1},\"geo\":{\"bgcolor\":\"white\",\"landcolor\":\"#E5ECF6\",\"subunitcolor\":\"white\",\"showland\":true,\"showlakes\":true,\"lakecolor\":\"white\"},\"title\":{\"x\":0.05},\"mapbox\":{\"style\":\"light\"}}},\"geo\":{\"projection\":{\"type\":\"natural earth\"},\"showframe\":true},\"title\":{\"text\":\"Maratonlarda En \\u00c7ok Birinci \\u00c7\\u0131karan \\u00dclkeler\",\"x\":0.45}},                        {\"responsive\": true}                    ).then(function(){\n",
              "                            \n",
              "var gd = document.getElementById('32372fda-89ec-43af-8f07-3cac354852c1');\n",
              "var x = new MutationObserver(function (mutations, observer) {{\n",
              "        var display = window.getComputedStyle(gd).display;\n",
              "        if (!display || display === 'none') {{\n",
              "            console.log([gd, 'removed!']);\n",
              "            Plotly.purge(gd);\n",
              "            observer.disconnect();\n",
              "        }}\n",
              "}});\n",
              "\n",
              "// Listen for the removal of the full notebook cells\n",
              "var notebookContainer = gd.closest('#notebook-container');\n",
              "if (notebookContainer) {{\n",
              "    x.observe(notebookContainer, {childList: true});\n",
              "}}\n",
              "\n",
              "// Listen for the clearing of the current output cell\n",
              "var outputEl = gd.closest('.output');\n",
              "if (outputEl) {{\n",
              "    x.observe(outputEl, {childList: true});\n",
              "}}\n",
              "\n",
              "                        })                };                            </script>        </div>\n",
              "</body>\n",
              "</html>"
            ]
          },
          "metadata": {}
        }
      ]
    },
    {
      "cell_type": "markdown",
      "source": [
        "###Şekil2 Kullanılan görsel kanallar:\n",
        "\n",
        "*   Renk: Kazanan sayıları (Nicel)\n",
        "*   Etkileşim: Fare ile üzerine gelindiğinde  ülke ismi ve birinci çıkarma sayılarının gösterilmesi (birinci çıkaran ülkeler için).\n",
        "*   Görsel Kanal: Harita - Konum\n",
        "\n",
        "##Bulgular\n",
        "\n",
        "Maraton Koşularında birinci çıkaramayan ülkelerin ekonomik koşullarının kötü olduğu görülmektedir. Öte yandan nüfusuna oranla Kenya ve Etiyopya'nın birinci çıkarma sayısı oldukça yüksektir.\n",
        "(Amerika =~ 300 Milyon, Kenya =~ 50 Milyon, Etiyopya =~ 120 Milyon [2])\n"
      ],
      "metadata": {
        "id": "5QQPwLVn0AsO"
      }
    },
    {
      "cell_type": "markdown",
      "source": [
        "##Soru3"
      ],
      "metadata": {
        "id": "S4gwuvPJ-zpQ"
      }
    },
    {
      "cell_type": "markdown",
      "source": [
        "Dünya genelinde en popüler beş maratona bakıldığında (Tokyo,NYC, Boston, Berlin, London) en çok birinci çıkaran ilk 10 ülke hangileridir?"
      ],
      "metadata": {
        "id": "mIF08L---6yA"
      }
    },
    {
      "cell_type": "code",
      "source": [
        "!pip install ipympl\n",
        "!pip install plotly\n"
      ],
      "metadata": {
        "id": "UhFcXp7RGUvT"
      },
      "execution_count": null,
      "outputs": []
    },
    {
      "cell_type": "code",
      "source": [
        "import plotly.express as px\n",
        "import pandas as pd\n",
        "\n",
        "#Ülkelerin birinci çıkarma sayılarının hesaplanması\n",
        "count_nationality = df_marathons['country'].value_counts()\n",
        "\n",
        "# En yüksek 10 veriyi alma\n",
        "top_10 = count_nationality.head(10)\n",
        "\n",
        "data = pd.DataFrame({'Country': top_10.index, 'Count': top_10.values})\n",
        "\n",
        "fig = px.pie(data, values='Count', names='Country')\n",
        "fig.update_layout(\n",
        "    title=dict(text=\"Maratonlarda en çok birinci çıkaran ilk 10 ülke\", x=0.5, y=0.95),\n",
        "    margin=dict(l=20, r=20, t=40, b=20),\n",
        ")\n",
        "\n",
        "colors = ['gold', 'lightcoral', 'lightskyblue', 'yellowgreen', 'pink', 'orange', 'lightgray', 'lightgreen', 'lightsalmon', 'violet']\n",
        "\n",
        "\n",
        "fig.update_traces(textinfo='percent+label', pull=[0.1, 0, 0, 0, 0, 0, 0, 0, 0, 0.1], marker=dict(colors=colors))\n",
        "\n",
        "fig.show()\n"
      ],
      "metadata": {
        "colab": {
          "base_uri": "https://localhost:8080/",
          "height": 542
        },
        "id": "mY9bMrIIHJeY",
        "outputId": "70653d27-8d3b-47cf-c008-6217c98a9493"
      },
      "execution_count": null,
      "outputs": [
        {
          "output_type": "display_data",
          "data": {
            "text/html": [
              "<html>\n",
              "<head><meta charset=\"utf-8\" /></head>\n",
              "<body>\n",
              "    <div>            <script src=\"https://cdnjs.cloudflare.com/ajax/libs/mathjax/2.7.5/MathJax.js?config=TeX-AMS-MML_SVG\"></script><script type=\"text/javascript\">if (window.MathJax && window.MathJax.Hub && window.MathJax.Hub.Config) {window.MathJax.Hub.Config({SVG: {font: \"STIX-Web\"}});}</script>                <script type=\"text/javascript\">window.PlotlyConfig = {MathJaxConfig: 'local'};</script>\n",
              "        <script charset=\"utf-8\" src=\"https://cdn.plot.ly/plotly-2.24.1.min.js\"></script>                <div id=\"02a12dab-fd24-4e1f-a515-65bdc74e0c6e\" class=\"plotly-graph-div\" style=\"height:525px; width:100%;\"></div>            <script type=\"text/javascript\">                                    window.PLOTLYENV=window.PLOTLYENV || {};                                    if (document.getElementById(\"02a12dab-fd24-4e1f-a515-65bdc74e0c6e\")) {                    Plotly.newPlot(                        \"02a12dab-fd24-4e1f-a515-65bdc74e0c6e\",                        [{\"domain\":{\"x\":[0.0,1.0],\"y\":[0.0,1.0]},\"hovertemplate\":\"Country=%{label}\\u003cbr\\u003eCount=%{value}\\u003cextra\\u003e\\u003c\\u002fextra\\u003e\",\"labels\":[\"Kenya\",\"United States\",\"Ethiopia\",\"Germany\",\"United Kingdom\",\"Japan\",\"Norway\",\"Canada\",\"Portugal\",\"Mexico\"],\"legendgroup\":\"\",\"name\":\"\",\"showlegend\":true,\"values\":[136,104,51,36,35,22,20,17,11,10],\"type\":\"pie\",\"marker\":{\"colors\":[\"gold\",\"lightcoral\",\"lightskyblue\",\"yellowgreen\",\"pink\",\"orange\",\"lightgray\",\"lightgreen\",\"lightsalmon\",\"violet\"]},\"pull\":[0.1,0,0,0,0,0,0,0,0,0.1],\"textinfo\":\"percent+label\"}],                        {\"template\":{\"data\":{\"histogram2dcontour\":[{\"type\":\"histogram2dcontour\",\"colorbar\":{\"outlinewidth\":0,\"ticks\":\"\"},\"colorscale\":[[0.0,\"#0d0887\"],[0.1111111111111111,\"#46039f\"],[0.2222222222222222,\"#7201a8\"],[0.3333333333333333,\"#9c179e\"],[0.4444444444444444,\"#bd3786\"],[0.5555555555555556,\"#d8576b\"],[0.6666666666666666,\"#ed7953\"],[0.7777777777777778,\"#fb9f3a\"],[0.8888888888888888,\"#fdca26\"],[1.0,\"#f0f921\"]]}],\"choropleth\":[{\"type\":\"choropleth\",\"colorbar\":{\"outlinewidth\":0,\"ticks\":\"\"}}],\"histogram2d\":[{\"type\":\"histogram2d\",\"colorbar\":{\"outlinewidth\":0,\"ticks\":\"\"},\"colorscale\":[[0.0,\"#0d0887\"],[0.1111111111111111,\"#46039f\"],[0.2222222222222222,\"#7201a8\"],[0.3333333333333333,\"#9c179e\"],[0.4444444444444444,\"#bd3786\"],[0.5555555555555556,\"#d8576b\"],[0.6666666666666666,\"#ed7953\"],[0.7777777777777778,\"#fb9f3a\"],[0.8888888888888888,\"#fdca26\"],[1.0,\"#f0f921\"]]}],\"heatmap\":[{\"type\":\"heatmap\",\"colorbar\":{\"outlinewidth\":0,\"ticks\":\"\"},\"colorscale\":[[0.0,\"#0d0887\"],[0.1111111111111111,\"#46039f\"],[0.2222222222222222,\"#7201a8\"],[0.3333333333333333,\"#9c179e\"],[0.4444444444444444,\"#bd3786\"],[0.5555555555555556,\"#d8576b\"],[0.6666666666666666,\"#ed7953\"],[0.7777777777777778,\"#fb9f3a\"],[0.8888888888888888,\"#fdca26\"],[1.0,\"#f0f921\"]]}],\"heatmapgl\":[{\"type\":\"heatmapgl\",\"colorbar\":{\"outlinewidth\":0,\"ticks\":\"\"},\"colorscale\":[[0.0,\"#0d0887\"],[0.1111111111111111,\"#46039f\"],[0.2222222222222222,\"#7201a8\"],[0.3333333333333333,\"#9c179e\"],[0.4444444444444444,\"#bd3786\"],[0.5555555555555556,\"#d8576b\"],[0.6666666666666666,\"#ed7953\"],[0.7777777777777778,\"#fb9f3a\"],[0.8888888888888888,\"#fdca26\"],[1.0,\"#f0f921\"]]}],\"contourcarpet\":[{\"type\":\"contourcarpet\",\"colorbar\":{\"outlinewidth\":0,\"ticks\":\"\"}}],\"contour\":[{\"type\":\"contour\",\"colorbar\":{\"outlinewidth\":0,\"ticks\":\"\"},\"colorscale\":[[0.0,\"#0d0887\"],[0.1111111111111111,\"#46039f\"],[0.2222222222222222,\"#7201a8\"],[0.3333333333333333,\"#9c179e\"],[0.4444444444444444,\"#bd3786\"],[0.5555555555555556,\"#d8576b\"],[0.6666666666666666,\"#ed7953\"],[0.7777777777777778,\"#fb9f3a\"],[0.8888888888888888,\"#fdca26\"],[1.0,\"#f0f921\"]]}],\"surface\":[{\"type\":\"surface\",\"colorbar\":{\"outlinewidth\":0,\"ticks\":\"\"},\"colorscale\":[[0.0,\"#0d0887\"],[0.1111111111111111,\"#46039f\"],[0.2222222222222222,\"#7201a8\"],[0.3333333333333333,\"#9c179e\"],[0.4444444444444444,\"#bd3786\"],[0.5555555555555556,\"#d8576b\"],[0.6666666666666666,\"#ed7953\"],[0.7777777777777778,\"#fb9f3a\"],[0.8888888888888888,\"#fdca26\"],[1.0,\"#f0f921\"]]}],\"mesh3d\":[{\"type\":\"mesh3d\",\"colorbar\":{\"outlinewidth\":0,\"ticks\":\"\"}}],\"scatter\":[{\"fillpattern\":{\"fillmode\":\"overlay\",\"size\":10,\"solidity\":0.2},\"type\":\"scatter\"}],\"parcoords\":[{\"type\":\"parcoords\",\"line\":{\"colorbar\":{\"outlinewidth\":0,\"ticks\":\"\"}}}],\"scatterpolargl\":[{\"type\":\"scatterpolargl\",\"marker\":{\"colorbar\":{\"outlinewidth\":0,\"ticks\":\"\"}}}],\"bar\":[{\"error_x\":{\"color\":\"#2a3f5f\"},\"error_y\":{\"color\":\"#2a3f5f\"},\"marker\":{\"line\":{\"color\":\"#E5ECF6\",\"width\":0.5},\"pattern\":{\"fillmode\":\"overlay\",\"size\":10,\"solidity\":0.2}},\"type\":\"bar\"}],\"scattergeo\":[{\"type\":\"scattergeo\",\"marker\":{\"colorbar\":{\"outlinewidth\":0,\"ticks\":\"\"}}}],\"scatterpolar\":[{\"type\":\"scatterpolar\",\"marker\":{\"colorbar\":{\"outlinewidth\":0,\"ticks\":\"\"}}}],\"histogram\":[{\"marker\":{\"pattern\":{\"fillmode\":\"overlay\",\"size\":10,\"solidity\":0.2}},\"type\":\"histogram\"}],\"scattergl\":[{\"type\":\"scattergl\",\"marker\":{\"colorbar\":{\"outlinewidth\":0,\"ticks\":\"\"}}}],\"scatter3d\":[{\"type\":\"scatter3d\",\"line\":{\"colorbar\":{\"outlinewidth\":0,\"ticks\":\"\"}},\"marker\":{\"colorbar\":{\"outlinewidth\":0,\"ticks\":\"\"}}}],\"scattermapbox\":[{\"type\":\"scattermapbox\",\"marker\":{\"colorbar\":{\"outlinewidth\":0,\"ticks\":\"\"}}}],\"scatterternary\":[{\"type\":\"scatterternary\",\"marker\":{\"colorbar\":{\"outlinewidth\":0,\"ticks\":\"\"}}}],\"scattercarpet\":[{\"type\":\"scattercarpet\",\"marker\":{\"colorbar\":{\"outlinewidth\":0,\"ticks\":\"\"}}}],\"carpet\":[{\"aaxis\":{\"endlinecolor\":\"#2a3f5f\",\"gridcolor\":\"white\",\"linecolor\":\"white\",\"minorgridcolor\":\"white\",\"startlinecolor\":\"#2a3f5f\"},\"baxis\":{\"endlinecolor\":\"#2a3f5f\",\"gridcolor\":\"white\",\"linecolor\":\"white\",\"minorgridcolor\":\"white\",\"startlinecolor\":\"#2a3f5f\"},\"type\":\"carpet\"}],\"table\":[{\"cells\":{\"fill\":{\"color\":\"#EBF0F8\"},\"line\":{\"color\":\"white\"}},\"header\":{\"fill\":{\"color\":\"#C8D4E3\"},\"line\":{\"color\":\"white\"}},\"type\":\"table\"}],\"barpolar\":[{\"marker\":{\"line\":{\"color\":\"#E5ECF6\",\"width\":0.5},\"pattern\":{\"fillmode\":\"overlay\",\"size\":10,\"solidity\":0.2}},\"type\":\"barpolar\"}],\"pie\":[{\"automargin\":true,\"type\":\"pie\"}]},\"layout\":{\"autotypenumbers\":\"strict\",\"colorway\":[\"#636efa\",\"#EF553B\",\"#00cc96\",\"#ab63fa\",\"#FFA15A\",\"#19d3f3\",\"#FF6692\",\"#B6E880\",\"#FF97FF\",\"#FECB52\"],\"font\":{\"color\":\"#2a3f5f\"},\"hovermode\":\"closest\",\"hoverlabel\":{\"align\":\"left\"},\"paper_bgcolor\":\"white\",\"plot_bgcolor\":\"#E5ECF6\",\"polar\":{\"bgcolor\":\"#E5ECF6\",\"angularaxis\":{\"gridcolor\":\"white\",\"linecolor\":\"white\",\"ticks\":\"\"},\"radialaxis\":{\"gridcolor\":\"white\",\"linecolor\":\"white\",\"ticks\":\"\"}},\"ternary\":{\"bgcolor\":\"#E5ECF6\",\"aaxis\":{\"gridcolor\":\"white\",\"linecolor\":\"white\",\"ticks\":\"\"},\"baxis\":{\"gridcolor\":\"white\",\"linecolor\":\"white\",\"ticks\":\"\"},\"caxis\":{\"gridcolor\":\"white\",\"linecolor\":\"white\",\"ticks\":\"\"}},\"coloraxis\":{\"colorbar\":{\"outlinewidth\":0,\"ticks\":\"\"}},\"colorscale\":{\"sequential\":[[0.0,\"#0d0887\"],[0.1111111111111111,\"#46039f\"],[0.2222222222222222,\"#7201a8\"],[0.3333333333333333,\"#9c179e\"],[0.4444444444444444,\"#bd3786\"],[0.5555555555555556,\"#d8576b\"],[0.6666666666666666,\"#ed7953\"],[0.7777777777777778,\"#fb9f3a\"],[0.8888888888888888,\"#fdca26\"],[1.0,\"#f0f921\"]],\"sequentialminus\":[[0.0,\"#0d0887\"],[0.1111111111111111,\"#46039f\"],[0.2222222222222222,\"#7201a8\"],[0.3333333333333333,\"#9c179e\"],[0.4444444444444444,\"#bd3786\"],[0.5555555555555556,\"#d8576b\"],[0.6666666666666666,\"#ed7953\"],[0.7777777777777778,\"#fb9f3a\"],[0.8888888888888888,\"#fdca26\"],[1.0,\"#f0f921\"]],\"diverging\":[[0,\"#8e0152\"],[0.1,\"#c51b7d\"],[0.2,\"#de77ae\"],[0.3,\"#f1b6da\"],[0.4,\"#fde0ef\"],[0.5,\"#f7f7f7\"],[0.6,\"#e6f5d0\"],[0.7,\"#b8e186\"],[0.8,\"#7fbc41\"],[0.9,\"#4d9221\"],[1,\"#276419\"]]},\"xaxis\":{\"gridcolor\":\"white\",\"linecolor\":\"white\",\"ticks\":\"\",\"title\":{\"standoff\":15},\"zerolinecolor\":\"white\",\"automargin\":true,\"zerolinewidth\":2},\"yaxis\":{\"gridcolor\":\"white\",\"linecolor\":\"white\",\"ticks\":\"\",\"title\":{\"standoff\":15},\"zerolinecolor\":\"white\",\"automargin\":true,\"zerolinewidth\":2},\"scene\":{\"xaxis\":{\"backgroundcolor\":\"#E5ECF6\",\"gridcolor\":\"white\",\"linecolor\":\"white\",\"showbackground\":true,\"ticks\":\"\",\"zerolinecolor\":\"white\",\"gridwidth\":2},\"yaxis\":{\"backgroundcolor\":\"#E5ECF6\",\"gridcolor\":\"white\",\"linecolor\":\"white\",\"showbackground\":true,\"ticks\":\"\",\"zerolinecolor\":\"white\",\"gridwidth\":2},\"zaxis\":{\"backgroundcolor\":\"#E5ECF6\",\"gridcolor\":\"white\",\"linecolor\":\"white\",\"showbackground\":true,\"ticks\":\"\",\"zerolinecolor\":\"white\",\"gridwidth\":2}},\"shapedefaults\":{\"line\":{\"color\":\"#2a3f5f\"}},\"annotationdefaults\":{\"arrowcolor\":\"#2a3f5f\",\"arrowhead\":0,\"arrowwidth\":1},\"geo\":{\"bgcolor\":\"white\",\"landcolor\":\"#E5ECF6\",\"subunitcolor\":\"white\",\"showland\":true,\"showlakes\":true,\"lakecolor\":\"white\"},\"title\":{\"x\":0.05},\"mapbox\":{\"style\":\"light\"}}},\"legend\":{\"tracegroupgap\":0},\"margin\":{\"t\":40,\"l\":20,\"r\":20,\"b\":20},\"title\":{\"text\":\"Maratonlarda en \\u00e7ok birinci \\u00e7\\u0131karan ilk 10 \\u00fclke\",\"x\":0.5,\"y\":0.95}},                        {\"responsive\": true}                    ).then(function(){\n",
              "                            \n",
              "var gd = document.getElementById('02a12dab-fd24-4e1f-a515-65bdc74e0c6e');\n",
              "var x = new MutationObserver(function (mutations, observer) {{\n",
              "        var display = window.getComputedStyle(gd).display;\n",
              "        if (!display || display === 'none') {{\n",
              "            console.log([gd, 'removed!']);\n",
              "            Plotly.purge(gd);\n",
              "            observer.disconnect();\n",
              "        }}\n",
              "}});\n",
              "\n",
              "// Listen for the removal of the full notebook cells\n",
              "var notebookContainer = gd.closest('#notebook-container');\n",
              "if (notebookContainer) {{\n",
              "    x.observe(notebookContainer, {childList: true});\n",
              "}}\n",
              "\n",
              "// Listen for the clearing of the current output cell\n",
              "var outputEl = gd.closest('.output');\n",
              "if (outputEl) {{\n",
              "    x.observe(outputEl, {childList: true});\n",
              "}}\n",
              "\n",
              "                        })                };                            </script>        </div>\n",
              "</body>\n",
              "</html>"
            ]
          },
          "metadata": {}
        }
      ]
    },
    {
      "cell_type": "markdown",
      "source": [
        "###Şekil3 Kullanılan görsel kanallar:\n",
        "* Veri işareti: Pasta dilimleri\n",
        "* Renk: Ülkeler\n",
        "* Etiket: Ülkelerin yüzdesel dağılımı\n",
        "* Etkileşim: Ülkeler ve birinci çıkarma sayıları\n",
        "\n",
        "##Bulgular:\n",
        "Maratonların düzenlendiği şehirlerin Tokyo, NYC, Boston, Berlin, London olması nedeniyle Amerika, Japonya, Almanya ve İngiltere'den birinci çıkması beklenen bir durumdur. İlk 10 bakımından %39'luk dilime sahip olan Kenya, en fazla birinci çıkarma sayısına sahiptir."
      ],
      "metadata": {
        "id": "qOTNJlQ8I6Je"
      }
    },
    {
      "cell_type": "markdown",
      "source": [
        "#Kaynakça\n",
        "1- Aktaş S., Balcı V. 2019. Maraton ve Kelebek Etkisi. SPORMETRE, 2019,17(1),20-30. DOI: 10.33689/spormetre.528653.\n",
        "\n",
        "\n",
        "\n",
        "\n"
      ],
      "metadata": {
        "id": "UBDLLujKfjW3"
      }
    }
  ]
}
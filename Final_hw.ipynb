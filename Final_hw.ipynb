{
  "nbformat": 4,
  "nbformat_minor": 0,
  "metadata": {
    "colab": {
      "provenance": [],
      "toc_visible": true,
      "authorship_tag": "ABX9TyPVhCPQ02ToKQxV3NH7jLBj",
      "include_colab_link": true
    },
    "kernelspec": {
      "name": "python3",
      "display_name": "Python 3"
    },
    "language_info": {
      "name": "python"
    }
  },
  "cells": [
    {
      "cell_type": "markdown",
      "metadata": {
        "id": "view-in-github",
        "colab_type": "text"
      },
      "source": [
        "<a href=\"https://colab.research.google.com/github/tugcegulsanusta/data-visualization/blob/main/Final_hw.ipynb\" target=\"_parent\"><img src=\"https://colab.research.google.com/assets/colab-badge.svg\" alt=\"Open In Colab\"/></a>"
      ]
    },
    {
      "cell_type": "markdown",
      "source": [
        "#  Tuğçe USTA"
      ],
      "metadata": {
        "id": "esh3xraqtJGa"
      }
    },
    {
      "cell_type": "markdown",
      "source": [
        "## Load data\n",
        "\n",
        "\n"
      ],
      "metadata": {
        "id": "c0utyr7YtPe0"
      }
    },
    {
      "cell_type": "code",
      "execution_count": 2,
      "metadata": {
        "id": "kSevDNWYr1PD"
      },
      "outputs": [],
      "source": [
        "import matplotlib.pyplot as plt\n",
        "import numpy as np\n",
        "import pandas as pd\n",
        "\n",
        "#read data: winners.csv and london_marathon.csv\n",
        "path_winners = \"https://github.com/nrennie/LondonMarathon/blob/main/data-raw/winners.csv?raw=True\"\n",
        "df_winners= pd.read_csv(path_winners)\n",
        "path_london_marathon = \"https://github.com/nrennie/LondonMarathon/blob/main/data-raw/london_marathon.csv?raw=True\"\n",
        "df_marathon = pd.read_csv(path_london_marathon)\n",
        "\n",
        "#expand data:\n",
        "url = 'https://raw.githubusercontent.com/tugcegulsanusta/data-visualization/main/world_marathon_majors.csv'\n",
        "df_marathons = pd.read_csv(url, index_col = 0, encoding='unicode_escape')\n"
      ]
    },
    {
      "cell_type": "markdown",
      "source": [
        "## Explore and clean\n"
      ],
      "metadata": {
        "id": "vfybESJRtiFY"
      }
    },
    {
      "cell_type": "code",
      "source": [
        "# Explore data\n",
        "df_winners.info()\n",
        "df_marathon.info()\n",
        "df_marathons.info()\n",
        "\n",
        "df= df_marathon.drop([39])\n"
      ],
      "metadata": {
        "id": "DRYcZCVets1m",
        "colab": {
          "base_uri": "https://localhost:8080/"
        },
        "outputId": "514bafea-c138-462d-828c-03e6cf073622"
      },
      "execution_count": 33,
      "outputs": [
        {
          "output_type": "stream",
          "name": "stdout",
          "text": [
            "<class 'pandas.core.frame.DataFrame'>\n",
            "RangeIndex: 165 entries, 0 to 164\n",
            "Data columns (total 5 columns):\n",
            " #   Column       Non-Null Count  Dtype \n",
            "---  ------       --------------  ----- \n",
            " 0   Category     165 non-null    object\n",
            " 1   Year         165 non-null    int64 \n",
            " 2   Athlete      165 non-null    object\n",
            " 3   Nationality  165 non-null    object\n",
            " 4   Time         165 non-null    object\n",
            "dtypes: int64(1), object(4)\n",
            "memory usage: 6.6+ KB\n",
            "<class 'pandas.core.frame.DataFrame'>\n",
            "RangeIndex: 42 entries, 0 to 41\n",
            "Data columns (total 8 columns):\n",
            " #   Column            Non-Null Count  Dtype  \n",
            "---  ------            --------------  -----  \n",
            " 0   Date              42 non-null     object \n",
            " 1   Year              42 non-null     int64  \n",
            " 2   Applicants        40 non-null     float64\n",
            " 3   Accepted          40 non-null     float64\n",
            " 4   Starters          40 non-null     float64\n",
            " 5   Finishers         40 non-null     float64\n",
            " 6   Raised            13 non-null     float64\n",
            " 7   Official charity  36 non-null     object \n",
            "dtypes: float64(5), int64(1), object(2)\n",
            "memory usage: 2.8+ KB\n",
            "<class 'pandas.core.frame.DataFrame'>\n",
            "Int64Index: 536 entries, 2018 to 2018\n",
            "Data columns (total 5 columns):\n",
            " #   Column    Non-Null Count  Dtype \n",
            "---  ------    --------------  ----- \n",
            " 0   winner    536 non-null    object\n",
            " 1   gender    536 non-null    object\n",
            " 2   country   536 non-null    object\n",
            " 3   time      536 non-null    object\n",
            " 4   marathon  536 non-null    object\n",
            "dtypes: object(5)\n",
            "memory usage: 25.1+ KB\n"
          ]
        }
      ]
    },
    {
      "cell_type": "markdown",
      "source": [
        "##Soru1"
      ],
      "metadata": {
        "id": "acE6RPvHlh9a"
      }
    },
    {
      "cell_type": "markdown",
      "source": [
        "1-Küresel büyüklük olarak bir kelebeğin kanat çırpması gibi Pheidippides efsanesiyle başlayan, gittikçe popülerleşen ve her yaştan insanın ilgi odağı haline gelen maraton günümüzde kitle sporuna dönüşmüştür[1].\n",
        "Londra maratonuna yapılan başvurular ve kabul oranları maraton koşularının popülerleşmesi ile birlikte nasıl değişmiştir?"
      ],
      "metadata": {
        "id": "6vOBbB93loAD"
      }
    },
    {
      "cell_type": "code",
      "source": [
        "import plotly.graph_objs as go\n",
        "\n",
        "x = df['Year'].tolist()\n",
        "y1 = df[\"Applicants\"].tolist()\n",
        "y2 = df[\"Accepted\"].tolist()\n",
        "\n",
        "percentage = [y2[i] / y1[i] * 100 if y1[i] != 0 else 0 for i in range(len(y1))]\n",
        "\n",
        "fig = go.Figure()\n",
        "\n",
        "# calculate acception rate\n",
        "fig.add_trace(go.Scatter(x=x, y=percentage, mode='lines', name='Kabul Oranı (%)'))\n",
        "\n",
        "# add interaction\n",
        "hover_text = [f\"Kabul Alan Kişi Sayısı: {y2[i]}\" for i in range(len(y2))]\n",
        "fig.add_trace(go.Scatter(x=x, y=percentage, mode='markers', hovertext=hover_text, marker=dict(color='black'), showlegend=False))\n",
        "\n",
        "fig.update_layout(\n",
        "    title='Yıllara Göre Başvuranların Kabul Alma Oranları',\n",
        "    xaxis_title='Yıllar',\n",
        "    yaxis_title='Kabul Alanların Oranı (%)'\n",
        ")\n",
        "\n",
        "fig.show()\n"
      ],
      "metadata": {
        "colab": {
          "base_uri": "https://localhost:8080/",
          "height": 542
        },
        "id": "ZcAxL5mTvUDX",
        "outputId": "e6a50de1-3052-404e-d4dc-a19cb5e3eef4"
      },
      "execution_count": 32,
      "outputs": [
        {
          "output_type": "display_data",
          "data": {
            "text/html": [
              "<html>\n",
              "<head><meta charset=\"utf-8\" /></head>\n",
              "<body>\n",
              "    <div>            <script src=\"https://cdnjs.cloudflare.com/ajax/libs/mathjax/2.7.5/MathJax.js?config=TeX-AMS-MML_SVG\"></script><script type=\"text/javascript\">if (window.MathJax && window.MathJax.Hub && window.MathJax.Hub.Config) {window.MathJax.Hub.Config({SVG: {font: \"STIX-Web\"}});}</script>                <script type=\"text/javascript\">window.PlotlyConfig = {MathJaxConfig: 'local'};</script>\n",
              "        <script charset=\"utf-8\" src=\"https://cdn.plot.ly/plotly-2.24.1.min.js\"></script>                <div id=\"13411a73-81c8-4357-9f1a-92ba01267959\" class=\"plotly-graph-div\" style=\"height:525px; width:100%;\"></div>            <script type=\"text/javascript\">                                    window.PLOTLYENV=window.PLOTLYENV || {};                                    if (document.getElementById(\"13411a73-81c8-4357-9f1a-92ba01267959\")) {                    Plotly.newPlot(                        \"13411a73-81c8-4357-9f1a-92ba01267959\",                        [{\"mode\":\"lines\",\"name\":\"Kabul Oran\\u0131 (%)\",\"x\":[1981,1982,1983,1984,1985,1986,1987,1988,1989,1990,1991,1992,1993,1994,1995,1996,1997,1998,1999,2000,2001,2002,2003,2004,2005,2006,2007,2008,2009,2010,2011,2012,2013,2014,2015,2016,2017,2018,2019,2021,2022],\"y\":[38.735,20.065555555555555,32.891666666666666,30.20285714285714,26.836144578313252,31.9575,35.455,41.06712328767123,44.12777777777778,47.78356164383561,42.38607594936709,41.265060240963855,52.67647058823529,51.91527777777778,49.48987341772152,57.60735294117647,51.04230769230769,43.987500000000004,50.31494252873563,45.802150537634404,47.301086956521736,46.54848484848485,41.10720720720721,41.86944444444444,36.34015151515151,39.51260504201681,39.092968750000004,40.525,32.25483870967742,31.520245398773007,30.826104461769333,29.503379371143108,28.85833895693614,29.391449888615174,29.901439081949004,21.51301863042308,20.96207616272201,14.165263566895481,13.617179502037821,null,null],\"type\":\"scatter\"},{\"hovertext\":[\"Kabul Alan Ki\\u015fi Say\\u0131s\\u0131: 7747.0\",\"Kabul Alan Ki\\u015fi Say\\u0131s\\u0131: 18059.0\",\"Kabul Alan Ki\\u015fi Say\\u0131s\\u0131: 19735.0\",\"Kabul Alan Ki\\u015fi Say\\u0131s\\u0131: 21142.0\",\"Kabul Alan Ki\\u015fi Say\\u0131s\\u0131: 22274.0\",\"Kabul Alan Ki\\u015fi Say\\u0131s\\u0131: 25566.0\",\"Kabul Alan Ki\\u015fi Say\\u0131s\\u0131: 28364.0\",\"Kabul Alan Ki\\u015fi Say\\u0131s\\u0131: 29979.0\",\"Kabul Alan Ki\\u015fi Say\\u0131s\\u0131: 31772.0\",\"Kabul Alan Ki\\u015fi Say\\u0131s\\u0131: 34882.0\",\"Kabul Alan Ki\\u015fi Say\\u0131s\\u0131: 33485.0\",\"Kabul Alan Ki\\u015fi Say\\u0131s\\u0131: 34250.0\",\"Kabul Alan Ki\\u015fi Say\\u0131s\\u0131: 35820.0\",\"Kabul Alan Ki\\u015fi Say\\u0131s\\u0131: 37379.0\",\"Kabul Alan Ki\\u015fi Say\\u0131s\\u0131: 39097.0\",\"Kabul Alan Ki\\u015fi Say\\u0131s\\u0131: 39173.0\",\"Kabul Alan Ki\\u015fi Say\\u0131s\\u0131: 39813.0\",\"Kabul Alan Ki\\u015fi Say\\u0131s\\u0131: 42228.0\",\"Kabul Alan Ki\\u015fi Say\\u0131s\\u0131: 43774.0\",\"Kabul Alan Ki\\u015fi Say\\u0131s\\u0131: 42596.0\",\"Kabul Alan Ki\\u015fi Say\\u0131s\\u0131: 43517.0\",\"Kabul Alan Ki\\u015fi Say\\u0131s\\u0131: 46083.0\",\"Kabul Alan Ki\\u015fi Say\\u0131s\\u0131: 45629.0\",\"Kabul Alan Ki\\u015fi Say\\u0131s\\u0131: 45219.0\",\"Kabul Alan Ki\\u015fi Say\\u0131s\\u0131: 47969.0\",\"Kabul Alan Ki\\u015fi Say\\u0131s\\u0131: 47020.0\",\"Kabul Alan Ki\\u015fi Say\\u0131s\\u0131: 50039.0\",\"Kabul Alan Ki\\u015fi Say\\u0131s\\u0131: 48630.0\",\"Kabul Alan Ki\\u015fi Say\\u0131s\\u0131: 49995.0\",\"Kabul Alan Ki\\u015fi Say\\u0131s\\u0131: 51378.0\",\"Kabul Alan Ki\\u015fi Say\\u0131s\\u0131: 50532.0\",\"Kabul Alan Ki\\u015fi Say\\u0131s\\u0131: 50200.0\",\"Kabul Alan Ki\\u015fi Say\\u0131s\\u0131: 48323.0\",\"Kabul Alan Ki\\u015fi Say\\u0131s\\u0131: 49872.0\",\"Kabul Alan Ki\\u015fi Say\\u0131s\\u0131: 51696.0\",\"Kabul Alan Ki\\u015fi Say\\u0131s\\u0131: 53152.0\",\"Kabul Alan Ki\\u015fi Say\\u0131s\\u0131: 53229.0\",\"Kabul Alan Ki\\u015fi Say\\u0131s\\u0131: 54685.0\",\"Kabul Alan Ki\\u015fi Say\\u0131s\\u0131: 56398.0\",\"Kabul Alan Ki\\u015fi Say\\u0131s\\u0131: nan\",\"Kabul Alan Ki\\u015fi Say\\u0131s\\u0131: nan\"],\"marker\":{\"color\":\"black\"},\"mode\":\"markers\",\"showlegend\":false,\"x\":[1981,1982,1983,1984,1985,1986,1987,1988,1989,1990,1991,1992,1993,1994,1995,1996,1997,1998,1999,2000,2001,2002,2003,2004,2005,2006,2007,2008,2009,2010,2011,2012,2013,2014,2015,2016,2017,2018,2019,2021,2022],\"y\":[38.735,20.065555555555555,32.891666666666666,30.20285714285714,26.836144578313252,31.9575,35.455,41.06712328767123,44.12777777777778,47.78356164383561,42.38607594936709,41.265060240963855,52.67647058823529,51.91527777777778,49.48987341772152,57.60735294117647,51.04230769230769,43.987500000000004,50.31494252873563,45.802150537634404,47.301086956521736,46.54848484848485,41.10720720720721,41.86944444444444,36.34015151515151,39.51260504201681,39.092968750000004,40.525,32.25483870967742,31.520245398773007,30.826104461769333,29.503379371143108,28.85833895693614,29.391449888615174,29.901439081949004,21.51301863042308,20.96207616272201,14.165263566895481,13.617179502037821,null,null],\"type\":\"scatter\"}],                        {\"template\":{\"data\":{\"histogram2dcontour\":[{\"type\":\"histogram2dcontour\",\"colorbar\":{\"outlinewidth\":0,\"ticks\":\"\"},\"colorscale\":[[0.0,\"#0d0887\"],[0.1111111111111111,\"#46039f\"],[0.2222222222222222,\"#7201a8\"],[0.3333333333333333,\"#9c179e\"],[0.4444444444444444,\"#bd3786\"],[0.5555555555555556,\"#d8576b\"],[0.6666666666666666,\"#ed7953\"],[0.7777777777777778,\"#fb9f3a\"],[0.8888888888888888,\"#fdca26\"],[1.0,\"#f0f921\"]]}],\"choropleth\":[{\"type\":\"choropleth\",\"colorbar\":{\"outlinewidth\":0,\"ticks\":\"\"}}],\"histogram2d\":[{\"type\":\"histogram2d\",\"colorbar\":{\"outlinewidth\":0,\"ticks\":\"\"},\"colorscale\":[[0.0,\"#0d0887\"],[0.1111111111111111,\"#46039f\"],[0.2222222222222222,\"#7201a8\"],[0.3333333333333333,\"#9c179e\"],[0.4444444444444444,\"#bd3786\"],[0.5555555555555556,\"#d8576b\"],[0.6666666666666666,\"#ed7953\"],[0.7777777777777778,\"#fb9f3a\"],[0.8888888888888888,\"#fdca26\"],[1.0,\"#f0f921\"]]}],\"heatmap\":[{\"type\":\"heatmap\",\"colorbar\":{\"outlinewidth\":0,\"ticks\":\"\"},\"colorscale\":[[0.0,\"#0d0887\"],[0.1111111111111111,\"#46039f\"],[0.2222222222222222,\"#7201a8\"],[0.3333333333333333,\"#9c179e\"],[0.4444444444444444,\"#bd3786\"],[0.5555555555555556,\"#d8576b\"],[0.6666666666666666,\"#ed7953\"],[0.7777777777777778,\"#fb9f3a\"],[0.8888888888888888,\"#fdca26\"],[1.0,\"#f0f921\"]]}],\"heatmapgl\":[{\"type\":\"heatmapgl\",\"colorbar\":{\"outlinewidth\":0,\"ticks\":\"\"},\"colorscale\":[[0.0,\"#0d0887\"],[0.1111111111111111,\"#46039f\"],[0.2222222222222222,\"#7201a8\"],[0.3333333333333333,\"#9c179e\"],[0.4444444444444444,\"#bd3786\"],[0.5555555555555556,\"#d8576b\"],[0.6666666666666666,\"#ed7953\"],[0.7777777777777778,\"#fb9f3a\"],[0.8888888888888888,\"#fdca26\"],[1.0,\"#f0f921\"]]}],\"contourcarpet\":[{\"type\":\"contourcarpet\",\"colorbar\":{\"outlinewidth\":0,\"ticks\":\"\"}}],\"contour\":[{\"type\":\"contour\",\"colorbar\":{\"outlinewidth\":0,\"ticks\":\"\"},\"colorscale\":[[0.0,\"#0d0887\"],[0.1111111111111111,\"#46039f\"],[0.2222222222222222,\"#7201a8\"],[0.3333333333333333,\"#9c179e\"],[0.4444444444444444,\"#bd3786\"],[0.5555555555555556,\"#d8576b\"],[0.6666666666666666,\"#ed7953\"],[0.7777777777777778,\"#fb9f3a\"],[0.8888888888888888,\"#fdca26\"],[1.0,\"#f0f921\"]]}],\"surface\":[{\"type\":\"surface\",\"colorbar\":{\"outlinewidth\":0,\"ticks\":\"\"},\"colorscale\":[[0.0,\"#0d0887\"],[0.1111111111111111,\"#46039f\"],[0.2222222222222222,\"#7201a8\"],[0.3333333333333333,\"#9c179e\"],[0.4444444444444444,\"#bd3786\"],[0.5555555555555556,\"#d8576b\"],[0.6666666666666666,\"#ed7953\"],[0.7777777777777778,\"#fb9f3a\"],[0.8888888888888888,\"#fdca26\"],[1.0,\"#f0f921\"]]}],\"mesh3d\":[{\"type\":\"mesh3d\",\"colorbar\":{\"outlinewidth\":0,\"ticks\":\"\"}}],\"scatter\":[{\"fillpattern\":{\"fillmode\":\"overlay\",\"size\":10,\"solidity\":0.2},\"type\":\"scatter\"}],\"parcoords\":[{\"type\":\"parcoords\",\"line\":{\"colorbar\":{\"outlinewidth\":0,\"ticks\":\"\"}}}],\"scatterpolargl\":[{\"type\":\"scatterpolargl\",\"marker\":{\"colorbar\":{\"outlinewidth\":0,\"ticks\":\"\"}}}],\"bar\":[{\"error_x\":{\"color\":\"#2a3f5f\"},\"error_y\":{\"color\":\"#2a3f5f\"},\"marker\":{\"line\":{\"color\":\"#E5ECF6\",\"width\":0.5},\"pattern\":{\"fillmode\":\"overlay\",\"size\":10,\"solidity\":0.2}},\"type\":\"bar\"}],\"scattergeo\":[{\"type\":\"scattergeo\",\"marker\":{\"colorbar\":{\"outlinewidth\":0,\"ticks\":\"\"}}}],\"scatterpolar\":[{\"type\":\"scatterpolar\",\"marker\":{\"colorbar\":{\"outlinewidth\":0,\"ticks\":\"\"}}}],\"histogram\":[{\"marker\":{\"pattern\":{\"fillmode\":\"overlay\",\"size\":10,\"solidity\":0.2}},\"type\":\"histogram\"}],\"scattergl\":[{\"type\":\"scattergl\",\"marker\":{\"colorbar\":{\"outlinewidth\":0,\"ticks\":\"\"}}}],\"scatter3d\":[{\"type\":\"scatter3d\",\"line\":{\"colorbar\":{\"outlinewidth\":0,\"ticks\":\"\"}},\"marker\":{\"colorbar\":{\"outlinewidth\":0,\"ticks\":\"\"}}}],\"scattermapbox\":[{\"type\":\"scattermapbox\",\"marker\":{\"colorbar\":{\"outlinewidth\":0,\"ticks\":\"\"}}}],\"scatterternary\":[{\"type\":\"scatterternary\",\"marker\":{\"colorbar\":{\"outlinewidth\":0,\"ticks\":\"\"}}}],\"scattercarpet\":[{\"type\":\"scattercarpet\",\"marker\":{\"colorbar\":{\"outlinewidth\":0,\"ticks\":\"\"}}}],\"carpet\":[{\"aaxis\":{\"endlinecolor\":\"#2a3f5f\",\"gridcolor\":\"white\",\"linecolor\":\"white\",\"minorgridcolor\":\"white\",\"startlinecolor\":\"#2a3f5f\"},\"baxis\":{\"endlinecolor\":\"#2a3f5f\",\"gridcolor\":\"white\",\"linecolor\":\"white\",\"minorgridcolor\":\"white\",\"startlinecolor\":\"#2a3f5f\"},\"type\":\"carpet\"}],\"table\":[{\"cells\":{\"fill\":{\"color\":\"#EBF0F8\"},\"line\":{\"color\":\"white\"}},\"header\":{\"fill\":{\"color\":\"#C8D4E3\"},\"line\":{\"color\":\"white\"}},\"type\":\"table\"}],\"barpolar\":[{\"marker\":{\"line\":{\"color\":\"#E5ECF6\",\"width\":0.5},\"pattern\":{\"fillmode\":\"overlay\",\"size\":10,\"solidity\":0.2}},\"type\":\"barpolar\"}],\"pie\":[{\"automargin\":true,\"type\":\"pie\"}]},\"layout\":{\"autotypenumbers\":\"strict\",\"colorway\":[\"#636efa\",\"#EF553B\",\"#00cc96\",\"#ab63fa\",\"#FFA15A\",\"#19d3f3\",\"#FF6692\",\"#B6E880\",\"#FF97FF\",\"#FECB52\"],\"font\":{\"color\":\"#2a3f5f\"},\"hovermode\":\"closest\",\"hoverlabel\":{\"align\":\"left\"},\"paper_bgcolor\":\"white\",\"plot_bgcolor\":\"#E5ECF6\",\"polar\":{\"bgcolor\":\"#E5ECF6\",\"angularaxis\":{\"gridcolor\":\"white\",\"linecolor\":\"white\",\"ticks\":\"\"},\"radialaxis\":{\"gridcolor\":\"white\",\"linecolor\":\"white\",\"ticks\":\"\"}},\"ternary\":{\"bgcolor\":\"#E5ECF6\",\"aaxis\":{\"gridcolor\":\"white\",\"linecolor\":\"white\",\"ticks\":\"\"},\"baxis\":{\"gridcolor\":\"white\",\"linecolor\":\"white\",\"ticks\":\"\"},\"caxis\":{\"gridcolor\":\"white\",\"linecolor\":\"white\",\"ticks\":\"\"}},\"coloraxis\":{\"colorbar\":{\"outlinewidth\":0,\"ticks\":\"\"}},\"colorscale\":{\"sequential\":[[0.0,\"#0d0887\"],[0.1111111111111111,\"#46039f\"],[0.2222222222222222,\"#7201a8\"],[0.3333333333333333,\"#9c179e\"],[0.4444444444444444,\"#bd3786\"],[0.5555555555555556,\"#d8576b\"],[0.6666666666666666,\"#ed7953\"],[0.7777777777777778,\"#fb9f3a\"],[0.8888888888888888,\"#fdca26\"],[1.0,\"#f0f921\"]],\"sequentialminus\":[[0.0,\"#0d0887\"],[0.1111111111111111,\"#46039f\"],[0.2222222222222222,\"#7201a8\"],[0.3333333333333333,\"#9c179e\"],[0.4444444444444444,\"#bd3786\"],[0.5555555555555556,\"#d8576b\"],[0.6666666666666666,\"#ed7953\"],[0.7777777777777778,\"#fb9f3a\"],[0.8888888888888888,\"#fdca26\"],[1.0,\"#f0f921\"]],\"diverging\":[[0,\"#8e0152\"],[0.1,\"#c51b7d\"],[0.2,\"#de77ae\"],[0.3,\"#f1b6da\"],[0.4,\"#fde0ef\"],[0.5,\"#f7f7f7\"],[0.6,\"#e6f5d0\"],[0.7,\"#b8e186\"],[0.8,\"#7fbc41\"],[0.9,\"#4d9221\"],[1,\"#276419\"]]},\"xaxis\":{\"gridcolor\":\"white\",\"linecolor\":\"white\",\"ticks\":\"\",\"title\":{\"standoff\":15},\"zerolinecolor\":\"white\",\"automargin\":true,\"zerolinewidth\":2},\"yaxis\":{\"gridcolor\":\"white\",\"linecolor\":\"white\",\"ticks\":\"\",\"title\":{\"standoff\":15},\"zerolinecolor\":\"white\",\"automargin\":true,\"zerolinewidth\":2},\"scene\":{\"xaxis\":{\"backgroundcolor\":\"#E5ECF6\",\"gridcolor\":\"white\",\"linecolor\":\"white\",\"showbackground\":true,\"ticks\":\"\",\"zerolinecolor\":\"white\",\"gridwidth\":2},\"yaxis\":{\"backgroundcolor\":\"#E5ECF6\",\"gridcolor\":\"white\",\"linecolor\":\"white\",\"showbackground\":true,\"ticks\":\"\",\"zerolinecolor\":\"white\",\"gridwidth\":2},\"zaxis\":{\"backgroundcolor\":\"#E5ECF6\",\"gridcolor\":\"white\",\"linecolor\":\"white\",\"showbackground\":true,\"ticks\":\"\",\"zerolinecolor\":\"white\",\"gridwidth\":2}},\"shapedefaults\":{\"line\":{\"color\":\"#2a3f5f\"}},\"annotationdefaults\":{\"arrowcolor\":\"#2a3f5f\",\"arrowhead\":0,\"arrowwidth\":1},\"geo\":{\"bgcolor\":\"white\",\"landcolor\":\"#E5ECF6\",\"subunitcolor\":\"white\",\"showland\":true,\"showlakes\":true,\"lakecolor\":\"white\"},\"title\":{\"x\":0.05},\"mapbox\":{\"style\":\"light\"}}},\"title\":{\"text\":\"Y\\u0131llara G\\u00f6re Ba\\u015fvuranlar\\u0131n Kabul Alma Oranlar\\u0131\"},\"xaxis\":{\"title\":{\"text\":\"Y\\u0131llar\"}},\"yaxis\":{\"title\":{\"text\":\"Kabul Alanlar\\u0131n Oran\\u0131 (%)\"}}},                        {\"responsive\": true}                    ).then(function(){\n",
              "                            \n",
              "var gd = document.getElementById('13411a73-81c8-4357-9f1a-92ba01267959');\n",
              "var x = new MutationObserver(function (mutations, observer) {{\n",
              "        var display = window.getComputedStyle(gd).display;\n",
              "        if (!display || display === 'none') {{\n",
              "            console.log([gd, 'removed!']);\n",
              "            Plotly.purge(gd);\n",
              "            observer.disconnect();\n",
              "        }}\n",
              "}});\n",
              "\n",
              "// Listen for the removal of the full notebook cells\n",
              "var notebookContainer = gd.closest('#notebook-container');\n",
              "if (notebookContainer) {{\n",
              "    x.observe(notebookContainer, {childList: true});\n",
              "}}\n",
              "\n",
              "// Listen for the clearing of the current output cell\n",
              "var outputEl = gd.closest('.output');\n",
              "if (outputEl) {{\n",
              "    x.observe(outputEl, {childList: true});\n",
              "}}\n",
              "\n",
              "                        })                };                            </script>        </div>\n",
              "</body>\n",
              "</html>"
            ]
          },
          "metadata": {}
        }
      ]
    },
    {
      "cell_type": "markdown",
      "source": [
        "### Görsel1 Kullanılan görsel kanallar:\n",
        "* Veri işareti: Nokta\n",
        "* X-pozisyon: Yıllar (Sıralı)\n",
        "* Y-pozisyon: Yarışmaya başvuranların kabul alma oranı (Nicel)\n",
        "* Çizgi: Yıllar içinde gözlenen oran değişimi takibi\n",
        "* Etkileşim: Fare ile üzerine gelindiğinde kabul alan kişi sayılarının gösterilmesi\n"
      ],
      "metadata": {
        "id": "iMznzZZQwz8n"
      }
    },
    {
      "cell_type": "markdown",
      "source": [
        "## Soru2"
      ],
      "metadata": {
        "id": "CdX2IAp3wEiu"
      }
    },
    {
      "cell_type": "markdown",
      "source": [
        "Dünya genelinde en popüler beş maratona bakıldığında (Tokyo,NYC, Boston, Berlin, London) birinciler ağırlıklı olarak hangi ülkelerden çıkmaktadır?"
      ],
      "metadata": {
        "id": "mX_tf7uJx5CA"
      }
    },
    {
      "cell_type": "code",
      "source": [
        "!pip install geopandas"
      ],
      "metadata": {
        "id": "8YNf5swG-sKt"
      },
      "execution_count": null,
      "outputs": []
    },
    {
      "cell_type": "code",
      "source": [
        "import pandas as pd\n",
        "import plotly.graph_objects as go\n",
        "\n",
        "country_counts = df_marathons['country'].value_counts()\n",
        "top_countries = country_counts.head(50)\n",
        "countries = top_countries.index\n",
        "win_counts = top_countries.values\n",
        "\n",
        "text = [f'Kazanan Sayısı: {count}' for count in win_counts]\n",
        "hover_text = [f'<b>Ülke:</b> {country}<br><b>Kazanan Sayısı:</b> {count}' for country, count in zip(countries, win_counts)]\n",
        "\n",
        "fig = go.Figure(data=go.Choropleth(\n",
        "    locations=countries,\n",
        "    locationmode='country names',\n",
        "    z=win_counts,\n",
        "    text=text,\n",
        "    hovertemplate='<b>Ülke:</b> %{location}<br><b>Kazanan Sayısı:</b> %{z}<extra></extra>',\n",
        "    colorscale='darkmint',\n",
        "    colorbar_title='Kazanan Sayısı',\n",
        "))\n",
        "\n",
        "fig.update_traces(hovertext=hover_text)\n",
        "fig.update_layout(\n",
        "    title='Maratonlarda En Çok Birinci Çıkaran Ülkeler',\n",
        "    geo=dict(showframe=False, projection_type='natural earth'),\n",
        "    title_x = 0.45\n",
        ")\n",
        "\n",
        "\n",
        "fig.show()"
      ],
      "metadata": {
        "id": "mND382APxdoZ"
      },
      "execution_count": null,
      "outputs": []
    },
    {
      "cell_type": "markdown",
      "source": [
        "###Görsel2 Kullanılan görsel kanallar:\n",
        "\n",
        "*   Renk: Kazanan sayıları (Nicel)\n",
        "*   Etkileşim: Fare ile üzerine gelindiğinde  ülke ismi ve birinci çıkarma sayılarının gösterilmesi (birinci çıkaran ülkeler için).\n",
        "*   Görsel Kanal: Harita - Konum\n"
      ],
      "metadata": {
        "id": "5QQPwLVn0AsO"
      }
    },
    {
      "cell_type": "markdown",
      "source": [
        "#Kaynakça\n",
        "1- Aktaş S., Balcı V. 2019. Maraton ve Kelebek Etkisi. SPORMETRE, 2019,17(1),20-30. DOI: 10.33689/spormetre.528653.\n",
        "\n",
        "\n",
        "\n",
        "\n"
      ],
      "metadata": {
        "id": "UBDLLujKfjW3"
      }
    }
  ]
}
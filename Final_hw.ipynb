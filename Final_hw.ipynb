{
  "nbformat": 4,
  "nbformat_minor": 0,
  "metadata": {
    "colab": {
      "provenance": [],
      "toc_visible": true,
      "authorship_tag": "ABX9TyOXM7PonY0/wrqbY3IJhKLg",
      "include_colab_link": true
    },
    "kernelspec": {
      "name": "python3",
      "display_name": "Python 3"
    },
    "language_info": {
      "name": "python"
    }
  },
  "cells": [
    {
      "cell_type": "markdown",
      "metadata": {
        "id": "view-in-github",
        "colab_type": "text"
      },
      "source": [
        "<a href=\"https://colab.research.google.com/github/tugcegulsanusta/data-visualization/blob/main/Final_hw.ipynb\" target=\"_parent\"><img src=\"https://colab.research.google.com/assets/colab-badge.svg\" alt=\"Open In Colab\"/></a>"
      ]
    },
    {
      "cell_type": "markdown",
      "source": [
        "# VBM661 - Tuğçe USTA - N22231481"
      ],
      "metadata": {
        "id": "esh3xraqtJGa"
      }
    },
    {
      "cell_type": "markdown",
      "source": [
        "## Veri Okuma\n",
        "\n",
        "\n"
      ],
      "metadata": {
        "id": "c0utyr7YtPe0"
      }
    },
    {
      "cell_type": "code",
      "execution_count": 10,
      "metadata": {
        "id": "kSevDNWYr1PD"
      },
      "outputs": [],
      "source": [
        "import matplotlib.pyplot as plt\n",
        "import numpy as np\n",
        "import pandas as pd\n",
        "\n",
        "#winners.csv ve london_marathon.csv dosyalarını okuma\n",
        "path_winners = \"https://github.com/nrennie/LondonMarathon/blob/main/data-raw/winners.csv?raw=True\"\n",
        "df_winners= pd.read_csv(path_winners)\n",
        "path_london_marathon = \"https://github.com/nrennie/LondonMarathon/blob/main/data-raw/london_marathon.csv?raw=True\"\n",
        "df_marathon = pd.read_csv(path_london_marathon)\n",
        "#veri ekleme:\n",
        "url = 'https://raw.githubusercontent.com/tugcegulsanusta/data-visualization/main/world_marathon_majors.csv'\n",
        "df_marathons = pd.read_csv(url, encoding='unicode_escape')\n"
      ]
    },
    {
      "cell_type": "markdown",
      "source": [
        "## Veri Analizi\n"
      ],
      "metadata": {
        "id": "vfybESJRtiFY"
      }
    },
    {
      "cell_type": "code",
      "source": [
        "#Veriyi analiz etme\n",
        "df_winners.info()\n",
        "df_marathon.info()\n",
        "df_marathons.info()\n",
        "#Bu satır 2020 yılı ile alakalı boş veri içerdiği için çıkarılmıştır.\n",
        "df= df_marathon.drop([39])\n"
      ],
      "metadata": {
        "id": "DRYcZCVets1m"
      },
      "execution_count": null,
      "outputs": []
    },
    {
      "cell_type": "markdown",
      "source": [
        "##Soru1"
      ],
      "metadata": {
        "id": "acE6RPvHlh9a"
      }
    },
    {
      "cell_type": "markdown",
      "source": [
        "1-Küresel büyüklük olarak bir kelebeğin kanat çırpması gibi Pheidippides efsanesiyle başlayan, gittikçe popülerleşen ve her yaştan insanın ilgi odağı haline gelen maraton günümüzde kitle sporuna dönüşmüştür[1].\n",
        "Londra maratonuna yapılan başvurular ve kabul oranları maraton koşularının popülerleşmesi ile birlikte nasıl değişmiştir?"
      ],
      "metadata": {
        "id": "6vOBbB93loAD"
      }
    },
    {
      "cell_type": "code",
      "source": [
        "import plotly.graph_objs as go\n",
        "\n",
        "x = df['Year'].tolist()\n",
        "y1 = df[\"Applicants\"].tolist()\n",
        "y2 = df[\"Accepted\"].tolist()\n",
        "\n",
        "percentage = [y2[i] / y1[i] * 100 if y1[i] != 0 else 0 for i in range(len(y1))]\n",
        "\n",
        "fig = go.Figure()\n",
        "\n",
        "# kabul alma oranlarının hesaplanması\n",
        "fig.add_trace(go.Scatter(x=x, y=percentage, mode='lines', name='Kabul Oranı (%)'))\n",
        "\n",
        "# etkileşim eklenmesi\n",
        "hover_text = [f\"Kabul Alan Kişi Sayısı: {y2[i]}\" for i in range(len(y2))]\n",
        "fig.add_trace(go.Scatter(x=x, y=percentage, mode='markers', hovertext=hover_text, marker=dict(color='black'), showlegend=False))\n",
        "\n",
        "fig.update_layout(\n",
        "    title='Yıllara Göre Başvuranların Kabul Alma Oranları',\n",
        "    xaxis_title='Yıllar',\n",
        "    yaxis_title='Kabul Alanların Oranı (%)'\n",
        ")\n",
        "\n",
        "fig.show()\n"
      ],
      "metadata": {
        "id": "ZcAxL5mTvUDX"
      },
      "execution_count": null,
      "outputs": []
    },
    {
      "cell_type": "markdown",
      "source": [
        "### Şekil1 Kullanılan görsel kanallar:\n",
        "* Veri işareti: Nokta\n",
        "* X-pozisyon: Yıllar (Sıralı)\n",
        "* Y-pozisyon: Yarışmaya başvuranların kabul alma oranı (Nicel)\n",
        "* Çizgi: Yıllar içinde gözlenen oran değişimi takibi\n",
        "* Etkileşim: Fare ile üzerine gelindiğinde kabul alan kişi sayılarının gösterilmesi\n",
        "\n",
        "\n",
        "## Bulgular:\n",
        "* Maraton kabul oranları son yıllarda artan başvuru sayıları nedeniyle azalmaktadır. Arttırılan kabul alma sayıları başvuru sayısına oranlandığında düşük kalmaktadır.\n"
      ],
      "metadata": {
        "id": "iMznzZZQwz8n"
      }
    },
    {
      "cell_type": "markdown",
      "source": [
        "## Soru2"
      ],
      "metadata": {
        "id": "CdX2IAp3wEiu"
      }
    },
    {
      "cell_type": "markdown",
      "source": [
        "2-Dünya genelinde en popüler beş maratona bakıldığında (Tokyo,NYC, Boston, Berlin, London) birinciler ağırlıklı olarak hangi ülkelerden çıkmaktadır?"
      ],
      "metadata": {
        "id": "mX_tf7uJx5CA"
      }
    },
    {
      "cell_type": "code",
      "source": [
        "!pip install geopandas"
      ],
      "metadata": {
        "id": "8YNf5swG-sKt"
      },
      "execution_count": 5,
      "outputs": []
    },
    {
      "cell_type": "code",
      "source": [
        "#Ülkelerin birinci çıkarma sayılarının hesaplanması\n",
        "country_counts = df_marathons['country'].value_counts()\n",
        "top_countries = country_counts.head(50)\n",
        "countries = top_countries.index\n",
        "win_counts = top_countries.values\n",
        "\n",
        "#etiket özelliklerinin belirlenmesi\n",
        "text = [f'Kazanan Sayısı: {count}' for count in win_counts]\n",
        "hover_text = [f'<b>Ülke:</b> {country}<br><b>Kazanan Sayısı:</b> {count}' for country, count in zip(countries, win_counts)]\n",
        "\n",
        "#figür özelliklerinin belirlenmesi\n",
        "fig = go.Figure(data=go.Choropleth(\n",
        "    locations=countries,\n",
        "    locationmode='country names',\n",
        "    z=win_counts,\n",
        "    text=text,\n",
        "    hovertemplate='<b>Ülke:</b> %{location}<br><b>Kazanan Sayısı:</b> %{z}<extra></extra>',\n",
        "    colorscale='darkmint',\n",
        "    colorbar_title='Kazanan Sayısı',\n",
        "))\n",
        "#etkileşim eklenmesi\n",
        "fig.update_traces(hovertext=hover_text)\n",
        "fig.update_layout(\n",
        "    title='Maratonlarda En Çok Birinci Çıkaran Ülkeler',\n",
        "    geo=dict(showframe=False, projection_type='natural earth'),\n",
        "    title_x = 0.45\n",
        ")\n",
        "\n",
        "\n",
        "fig.show()"
      ],
      "metadata": {
        "id": "mND382APxdoZ"
      },
      "execution_count": null,
      "outputs": []
    },
    {
      "cell_type": "markdown",
      "source": [
        "###Şekil2 Kullanılan görsel kanallar:\n",
        "\n",
        "*   Renk: Kazanan sayıları (Nicel)\n",
        "*   Etkileşim: Fare ile üzerine gelindiğinde  ülke ismi ve birinci çıkarma sayılarının gösterilmesi (birinci çıkaran ülkeler için).\n",
        "*   Görsel Kanal: Harita - Konum\n",
        "\n",
        "##Bulgular\n",
        "\n",
        "Maraton Koşularında birinci çıkaramayan ülkelerin ekonomik koşullarının kötü olduğu görülmektedir. Öte yandan nüfusuna oranla Kenya ve Etiyopya'nın birinci çıkarma sayısı oldukça yüksektir.\n",
        "(Amerika =~ 300 Milyon, Kenya =~ 50 Milyon, Etiyopya =~ 120 Milyon [2])\n"
      ],
      "metadata": {
        "id": "5QQPwLVn0AsO"
      }
    },
    {
      "cell_type": "markdown",
      "source": [
        "##Soru3"
      ],
      "metadata": {
        "id": "S4gwuvPJ-zpQ"
      }
    },
    {
      "cell_type": "markdown",
      "source": [
        "3-Dünya genelinde en popüler beş maratona bakıldığında (Tokyo,NYC, Boston, Berlin, London) en çok birinci çıkaran ilk 10 ülke hangileridir?"
      ],
      "metadata": {
        "id": "mIF08L---6yA"
      }
    },
    {
      "cell_type": "code",
      "source": [
        "import plotly.express as px\n",
        "\n",
        "\n",
        "#Ülkelerin birinci çıkarma sayılarının hesaplanması\n",
        "count_nationality = df_marathons['country'].value_counts()\n",
        "\n",
        "# En yüksek 10 veriyi alma\n",
        "top_10 = count_nationality.head(10)\n",
        "\n",
        "data = pd.DataFrame({'Country': top_10.index, 'Count': top_10.values})\n",
        "\n",
        "fig = px.pie(data, values='Count', names='Country')\n",
        "fig.update_layout(\n",
        "    title=dict(text=\"Maratonlarda en çok birinci çıkaran ilk 10 ülke\", x=0.5, y=0.95),\n",
        "    margin=dict(l=20, r=20, t=40, b=20),\n",
        ")\n",
        "\n",
        "colors = ['gold', 'lightcoral', 'lightskyblue', 'yellowgreen', 'pink', 'orange', 'lightgray', 'lightgreen', 'lightsalmon', 'violet']\n",
        "\n",
        "\n",
        "fig.update_traces(textinfo='percent+label', pull=[0.1, 0, 0, 0, 0, 0, 0, 0, 0, 0.1], marker=dict(colors=colors))\n",
        "\n",
        "fig.show()\n"
      ],
      "metadata": {
        "id": "mY9bMrIIHJeY"
      },
      "execution_count": null,
      "outputs": []
    },
    {
      "cell_type": "markdown",
      "source": [
        "###Şekil3 Kullanılan görsel kanallar:\n",
        "* Veri işareti: Pasta dilimleri\n",
        "* Renk: Ülkeler\n",
        "* Etiket: Ülkelerin yüzdesel dağılımı\n",
        "* Etkileşim: Ülkeler ve birinci çıkarma sayıları\n",
        "\n",
        "##Bulgular:\n",
        "Maratonların düzenlendiği şehirlerin Tokyo, NYC, Boston, Berlin, London olması nedeniyle Amerika, Japonya, Almanya ve İngiltere'den birinci çıkması beklenen bir durumdur. İlk 10 bakımından %39'luk dilime sahip olan Kenya, en fazla birinci çıkarma sayısına sahiptir."
      ],
      "metadata": {
        "id": "qOTNJlQ8I6Je"
      }
    },
    {
      "cell_type": "markdown",
      "source": [
        "#Kaynakça\n",
        "1- Aktaş S., Balcı V. 2019. Maraton ve Kelebek Etkisi. SPORMETRE, 2019,17(1),20-30. DOI: 10.33689/spormetre.528653.\n",
        "\n",
        "\n",
        "\n",
        "\n"
      ],
      "metadata": {
        "id": "UBDLLujKfjW3"
      }
    }
  ]
}